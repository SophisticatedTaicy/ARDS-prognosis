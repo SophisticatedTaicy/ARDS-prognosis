{
 "cells": [
  {
   "cell_type": "code",
   "execution_count": 23,
   "metadata": {
    "collapsed": true,
    "pycharm": {
     "name": "#%%\n"
    }
   },
   "outputs": [],
   "source": [
    "import csv\n",
    "\n",
    "import pd as pd\n",
    "import xgboost\n",
    "from pandas import DataFrame\n",
    "\n",
    "dict = {'platelets x 1000_variances': 0, 'potassium_variances': 0, 'PTT_variances': 0, 'sodium_variances': 0,\n",
    "        'Temperature_variances': 0, 'WBC x 1000_variances': 0, 'Mean airway pressure_variances': 0,\n",
    "        'Plateau Pressure_variances': 0, 'SaO2_variances': 0, 'Tidal Volume (set)_variances': 0,\n",
    "        'cvp_variances': 12}\n",
    "\n",
    "data = DataFrame([dict])\n",
    "data.to_csv('result123456.csv', mode='a', header=True)"
   ]
  },
  {
   "cell_type": "code",
   "execution_count": 1,
   "outputs": [
    {
     "name": "stdout",
     "output_type": "stream",
     "text": [
      "165\n",
      "55\n",
      "55\n"
     ]
    }
   ],
   "source": [
    "dynamic_item_list = ['albumin', 'ALT', 'AST', 'bands', 'Base Excess', 'basos', 'bicarbonate', 'bilirubin', 'BUN',\n",
    "                     'calcium', 'CO2', 'creatinine', 'eos', 'FIO2', 'glucose', 'Hemoglobin', 'INR', 'ionized calcium',\n",
    "                     'lactate', 'magnesium', 'paCO2', 'paO2', 'P/F ratio', 'PEEP', 'pH', 'platelets', 'potassium',\n",
    "                     'PTT', 'PIP', 'sodium', 'Temperature', 'WBC', 'Mean Airway Pressure', 'Plateau Pressure', 'SaO2',\n",
    "                     'SpO2', 'TV', 'CVP', 'ETCO2', 'diastolic_PAP', 'mean_PAP', 'systolic_PAP', 'Eyes', 'GCS', 'Motor',\n",
    "                     'Verbal', 'Heart Rate', 'I_BP_diastolic', 'I_BP_mean', 'I_BP_systolic', 'NI_BP_diastolic',\n",
    "                     'NI_BP_mean', 'NI_BP_systolic', 'Respiratory Rate', 'hematocrit']\n",
    "dynamic_mean_list = ['pH_median', 'paO2_median', 'paCO2_median', 'Base Excess_median', 'bicarbonate_median',\n",
    "                     'lactate_median', 'glucose_median', 'WBC_median', 'basos_median', 'eos_median', 'bands_median',\n",
    "                     'Hemoglobin_median', 'hematocrit_median', 'platelets_median', 'AST_median', 'ALT_median',\n",
    "                     'bilirubin_median', 'albumin_median', 'CVP_median', 'BUN_median', 'creatinine_median',\n",
    "                     'INR_median', 'PTT_median', 'PIP_median', 'FIO2_median', 'PEEP_median', 'Plateau Pressure_median',\n",
    "                     'Mean Airway Pressure_median', 'TV_median', 'Respiratory Rate_median', 'P/F ratio_median',\n",
    "                     'GCS_median', 'Eyes_median', 'Motor_median', 'Verbal_median', 'calcium_median',\n",
    "                     'ionized calcium_median', 'magnesium_median', 'potassium_median', 'sodium_median', 'CO2_median',\n",
    "                     'ETCO2_median', 'SaO2_median', 'SpO2_median', 'Temperature_median', 'Heart Rate_median',\n",
    "                     'diastolic_PAP_median', 'mean_PAP_median', 'systolic_PAP_median', 'I_BP_diastolic_median',\n",
    "                     'I_BP_mean_median', 'I_BP_systolic_median', 'NI_BP_diastolic_median', 'NI_BP_mean_median',\n",
    "                     'NI_BP_systolic_median']\n",
    "dynamic_detail_list = ['albumin_median', 'albumin_variances', 'albumin_changerate', 'ALT_median', 'ALT_variances',\n",
    "                       'ALT_changerate', 'AST_median', 'AST_variances', 'AST_changerate', 'bands_median',\n",
    "                       'bands_variances', 'bands_changerate', 'Base Excess_median', 'Base Excess_variances',\n",
    "                       'Base Excess_changerate', 'basos_median', 'basos_variances', 'basos_changerate',\n",
    "                       'bicarbonate_median', 'bicarbonate_variances', 'bicarbonate_changerate', 'bilirubin_median',\n",
    "                       'bilirubin_variances', 'bilirubin_changerate', 'BUN_median', 'BUN_variances', 'BUN_changerate',\n",
    "                       'calcium_median', 'calcium_variances', 'calcium_changerate', 'CO2_median', 'CO2_variances',\n",
    "                       'CO2_changerate', 'creatinine_median', 'creatinine_variances', 'creatinine_changerate',\n",
    "                       'eos_median', 'eos_variances', 'eos_changerate', 'FIO2_median', 'FIO2_variances',\n",
    "                       'FIO2_changerate', 'glucose_median', 'glucose_variances', 'glucose_changerate',\n",
    "                       'Hemoglobin_median', 'Hemoglobin_variances', 'Hemoglobin_changerate', 'INR_median',\n",
    "                       'INR_variances', 'INR_changerate', 'ionized calcium_median', 'ionized calcium_variances',\n",
    "                       'ionized calcium_changerate', 'lactate_median', 'lactate_variances', 'lactate_changerate',\n",
    "                       'magnesium_median', 'magnesium_variances', 'magnesium_changerate', 'paCO2_median',\n",
    "                       'paCO2_variances', 'paCO2_changerate', 'paO2_median', 'paO2_variances', 'paO2_changerate',\n",
    "                       'P/F ratio_median', 'P/F ratio_variances', 'P/F ratio_changerate', 'PEEP_median',\n",
    "                       'PEEP_variances', 'PEEP_changerate', 'pH_median', 'pH_variances', 'pH_changerate',\n",
    "                       'platelets_median', 'platelets_variances', 'platelets_changerate', 'potassium_median',\n",
    "                       'potassium_variances', 'potassium_changerate', 'PTT_median', 'PTT_variances', 'PTT_changerate',\n",
    "                       'PIP_median', 'PIP_variances', 'PIP_changerate', 'sodium_median', 'sodium_variances',\n",
    "                       'sodium_changerate', 'Temperature_median', 'Temperature_variances', 'Temperature_changerate',\n",
    "                       'WBC_median', 'WBC_variances', 'WBC_changerate', 'Mean Airway Pressure_median',\n",
    "                       'Mean Airway Pressure_variances', 'Mean Airway Pressure_changerate', 'Plateau Pressure_median',\n",
    "                       'Plateau Pressure_variances', 'Plateau Pressure_changerate', 'SaO2_median', 'SaO2_variances',\n",
    "                       'SaO2_changerate', 'SpO2_median', 'SpO2_variances', 'SpO2_changerate', 'TV_median',\n",
    "                       'TV_variances', 'TV_changerate', 'CVP_median', 'CVP_variances', 'CVP_changerate', 'ETCO2_median',\n",
    "                       'ETCO2_variances', 'ETCO2_changerate', 'diastolic_PAP_median', 'diastolic_PAP_variances',\n",
    "                       'diastolic_PAP_changerate', 'mean_PAP_median', 'mean_PAP_variances', 'mean_PAP_changerate',\n",
    "                       'systolic_PAP_median', 'systolic_PAP_variances', 'systolic_PAP_changerate', 'Eyes_median',\n",
    "                       'Eyes_variances', 'Eyes_changerate', 'GCS_median', 'GCS_variances', 'GCS_changerate',\n",
    "                       'Motor_median', 'Motor_variances', 'Motor_changerate', 'Verbal_median', 'Verbal_variances',\n",
    "                       'Verbal_changerate', 'Heart Rate_median', 'Heart Rate_variances', 'Heart Rate_changerate',\n",
    "                       'I_BP_diastolic_median', 'I_BP_diastolic_variances', 'I_BP_diastolic_changerate',\n",
    "                       'I_BP_mean_median', 'I_BP_mean_variances', 'I_BP_mean_changerate', 'I_BP_systolic_median',\n",
    "                       'I_BP_systolic_variances', 'I_BP_systolic_changerate', 'NI_BP_diastolic_median',\n",
    "                       'NI_BP_diastolic_variances', 'NI_BP_diastolic_changerate', 'NI_BP_mean_median',\n",
    "                       'NI_BP_mean_variances', 'NI_BP_mean_changerate', 'NI_BP_systolic_median',\n",
    "                       'NI_BP_systolic_variances', 'NI_BP_systolic_changerate', 'Respiratory Rate_median',\n",
    "                       'Respiratory Rate_variances', 'Respiratory Rate_changerate', 'hematocrit_median',\n",
    "                       'hematocrit_variances', 'hematocrit_changerate', ]\n",
    "print(len(dynamic_detail_list))\n",
    "print(len(dynamic_item_list))\n",
    "print(len(dynamic_mean_list))"
   ],
   "metadata": {
    "collapsed": false,
    "pycharm": {
     "name": "#%%\n"
    }
   }
  },
  {
   "cell_type": "code",
   "execution_count": null,
   "outputs": [],
   "source": [],
   "metadata": {
    "collapsed": false,
    "pycharm": {
     "name": "#%%\n"
    }
   }
  },
  {
   "cell_type": "code",
   "execution_count": 1,
   "outputs": [
    {
     "name": "stdout",
     "output_type": "stream",
     "text": [
      "100\n"
     ]
    }
   ],
   "source": [
    "part_header = ['id',\n",
    "               'warfarin', 'dobutamine', 'Dopamine', 'epinephrine', 'Heparin', 'Milrinone', 'Norepinephrine',\n",
    "               'phenylephrine', 'vasopressin', 'Vasopressor', 'Acute_Coronary_Syndrome_diagnosis',\n",
    "               'Acute_Myocardial_Infarction', 'Acute_Renal_Failure', 'Arrhythmia', 'Asthma_Emphysema', 'Cancer',\n",
    "               'Cardiac_Arrest', 'Cardiogenic_Shock', 'Cardiovascular_Medical', 'Cardiovascular_Other',\n",
    "               'Cerebrovascular_Accident_Stroke', 'Chest_Pain_Unknown_Origin', 'Coma',\n",
    "               'Coronary_Artery_Bypass_Graft', 'Diabetic_Ketoacidosis', 'Gastrointestinal_Bleed',\n",
    "               'Gastrointestinal_Obstruction', 'Neurologic', 'Overdose', 'Pneumonia', 'Respiratory_Medical_Other',\n",
    "               'Sepsis', 'Thoracotomy', 'Trauma', 'Valve_Disease', 'others_diease', 'admitsource', 'age', 'gender',\n",
    "               'BMI', 'admission_score', 'albumin', 'ALT (SGPT)', 'AST (SGOT)', '-bands', 'Base Excess', '-basos',\n",
    "               'bicarbonate',\n",
    "               'total bilirubin', 'BUN', 'calcium', 'Total CO2', 'creatinine', '-eos', 'FiO2', 'glucose', 'Hemoglobin',\n",
    "               'PT - INR', 'ionized calcium', 'lactate', 'magnesium', 'paCO2', 'paO2', 'P/F ratio', 'PEEP', 'pH',\n",
    "               'platelets x 1000', 'potassium', 'PTT', 'sodium', 'Temperature', 'WBC x 1000', 'Mean Airway Pressure',\n",
    "               'Plateau Pressure', 'SaO2', 'TV/kg IBW', 'cvp', 'etCO2', 'padiastolic', 'pamean', 'pasystolic', 'Eyes',\n",
    "               'GCS Total', 'Motor', 'Verbal', 'Heart Rate', 'Invasive BP Diastolic', 'Invasive BP Mean',\n",
    "               'Invasive BP Systolic', 'Non-Invasive BP Diastolic', 'Non-Invasive BP Mean', 'Non-Invasive BP Systolic',\n",
    "               'Respiratory Rate', 'hematocrit', 'status', 'detail', 'severity', 'unit', 'hospital']\n",
    "print(len(part_header))"
   ],
   "metadata": {
    "collapsed": false,
    "pycharm": {
     "name": "#%%\n"
    }
   }
  },
  {
   "cell_type": "code",
   "execution_count": 5,
   "outputs": [
    {
     "ename": "KeyError",
     "evalue": "4",
     "output_type": "error",
     "traceback": [
      "\u001B[1;31m---------------------------------------------------------------------------\u001B[0m",
      "\u001B[1;31mKeyError\u001B[0m                                  Traceback (most recent call last)",
      "Input \u001B[1;32mIn [5]\u001B[0m, in \u001B[0;36m<cell line: 17>\u001B[1;34m()\u001B[0m\n\u001B[0;32m      3\u001B[0m aps_header \u001B[38;5;241m=\u001B[39m [\u001B[38;5;124m'\u001B[39m\u001B[38;5;124mid\u001B[39m\u001B[38;5;124m'\u001B[39m,\n\u001B[0;32m      4\u001B[0m               \u001B[38;5;124m'\u001B[39m\u001B[38;5;124mwarfarin\u001B[39m\u001B[38;5;124m'\u001B[39m, \u001B[38;5;124m'\u001B[39m\u001B[38;5;124mdobutamine\u001B[39m\u001B[38;5;124m'\u001B[39m, \u001B[38;5;124m'\u001B[39m\u001B[38;5;124mDopamine\u001B[39m\u001B[38;5;124m'\u001B[39m, \u001B[38;5;124m'\u001B[39m\u001B[38;5;124mepinephrine\u001B[39m\u001B[38;5;124m'\u001B[39m, \u001B[38;5;124m'\u001B[39m\u001B[38;5;124mHeparin\u001B[39m\u001B[38;5;124m'\u001B[39m, \u001B[38;5;124m'\u001B[39m\u001B[38;5;124mMilrinone\u001B[39m\u001B[38;5;124m'\u001B[39m, \u001B[38;5;124m'\u001B[39m\u001B[38;5;124mNorepinephrine\u001B[39m\u001B[38;5;124m'\u001B[39m,\n\u001B[0;32m      5\u001B[0m               \u001B[38;5;124m'\u001B[39m\u001B[38;5;124mphenylephrine\u001B[39m\u001B[38;5;124m'\u001B[39m, \u001B[38;5;124m'\u001B[39m\u001B[38;5;124mvasopressin\u001B[39m\u001B[38;5;124m'\u001B[39m, \u001B[38;5;124m'\u001B[39m\u001B[38;5;124mVasopressor\u001B[39m\u001B[38;5;124m'\u001B[39m, \u001B[38;5;124m'\u001B[39m\u001B[38;5;124mAcute_Coronary_Syndrome_diagnosis\u001B[39m\u001B[38;5;124m'\u001B[39m,\n\u001B[1;32m   (...)\u001B[0m\n\u001B[0;32m     14\u001B[0m               \u001B[38;5;124m'\u001B[39m\u001B[38;5;124mheartrate\u001B[39m\u001B[38;5;124m'\u001B[39m, \u001B[38;5;124m'\u001B[39m\u001B[38;5;124mmeanbp\u001B[39m\u001B[38;5;124m'\u001B[39m, \u001B[38;5;124m'\u001B[39m\u001B[38;5;124mph\u001B[39m\u001B[38;5;124m'\u001B[39m, \u001B[38;5;124m'\u001B[39m\u001B[38;5;124mhematocrit\u001B[39m\u001B[38;5;124m'\u001B[39m, \u001B[38;5;124m'\u001B[39m\u001B[38;5;124mcreatinine\u001B[39m\u001B[38;5;124m'\u001B[39m, \u001B[38;5;124m'\u001B[39m\u001B[38;5;124malbumin\u001B[39m\u001B[38;5;124m'\u001B[39m, \u001B[38;5;124m'\u001B[39m\u001B[38;5;124mpao2\u001B[39m\u001B[38;5;124m'\u001B[39m, \u001B[38;5;124m'\u001B[39m\u001B[38;5;124mpco2\u001B[39m\u001B[38;5;124m'\u001B[39m, \u001B[38;5;124m'\u001B[39m\u001B[38;5;124mbun\u001B[39m\u001B[38;5;124m'\u001B[39m, \u001B[38;5;124m'\u001B[39m\u001B[38;5;124mglucose\u001B[39m\u001B[38;5;124m'\u001B[39m,\n\u001B[0;32m     15\u001B[0m               \u001B[38;5;124m'\u001B[39m\u001B[38;5;124mbilirubin\u001B[39m\u001B[38;5;124m'\u001B[39m, \u001B[38;5;124m'\u001B[39m\u001B[38;5;124mfio2\u001B[39m\u001B[38;5;124m'\u001B[39m, \u001B[38;5;124m'\u001B[39m\u001B[38;5;124mstatus\u001B[39m\u001B[38;5;124m'\u001B[39m, \u001B[38;5;124m'\u001B[39m\u001B[38;5;124mdetail\u001B[39m\u001B[38;5;124m'\u001B[39m, \u001B[38;5;124m'\u001B[39m\u001B[38;5;124mseverity\u001B[39m\u001B[38;5;124m'\u001B[39m, \u001B[38;5;124m'\u001B[39m\u001B[38;5;124munit\u001B[39m\u001B[38;5;124m'\u001B[39m, \u001B[38;5;124m'\u001B[39m\u001B[38;5;124mhospital\u001B[39m\u001B[38;5;124m'\u001B[39m]\n\u001B[0;32m     16\u001B[0m header \u001B[38;5;241m=\u001B[39m init\u001B[38;5;241m.\u001B[39minit_dict(aps_header)\n\u001B[1;32m---> 17\u001B[0m header[\u001B[43mheader\u001B[49m\u001B[43m[\u001B[49m\u001B[38;5;241;43m4\u001B[39;49m\u001B[43m]\u001B[49m] \u001B[38;5;241m=\u001B[39m \u001B[38;5;241m0\u001B[39m\n\u001B[0;32m     18\u001B[0m \u001B[38;5;28mprint\u001B[39m(header)\n",
      "\u001B[1;31mKeyError\u001B[0m: 4"
     ]
    }
   ],
   "source": [
    "import init\n",
    "\n",
    "aps_header = ['id',\n",
    "              'warfarin', 'dobutamine', 'Dopamine', 'epinephrine', 'Heparin', 'Milrinone', 'Norepinephrine',\n",
    "              'phenylephrine', 'vasopressin', 'Vasopressor', 'Acute_Coronary_Syndrome_diagnosis',\n",
    "              'Acute_Myocardial_Infarction', 'Acute_Renal_Failure', 'Arrhythmia',\n",
    "              'Asthma_Emphysema', 'Cancer', 'Cardiac_Arrest', 'Cardiogenic_Shock', 'Cardiovascular_Medical',\n",
    "              'Cardiovascular_Other', 'Cerebrovascular_Accident_Stroke', 'Chest_Pain_Unknown_Origin', 'Coma',\n",
    "              'Coronary_Artery_Bypass_Graft', 'Diabetic_Ketoacidosis', 'Gastrointestinal_Bleed',\n",
    "              'Gastrointestinal_Obstruction', 'Neurologic', 'Overdose', 'Pneumonia', 'Respiratory_Medical_Other',\n",
    "              'Sepsis', 'Thoracotomy', 'Trauma', 'Valve_Disease', 'others_diease',\n",
    "              'admitsource', 'age', 'gender', 'BMI', 'admission_score',\n",
    "              'dialysis', 'eyes', 'motor', 'verbal', 'meds', 'urine', 'wbc', 'temperature', 'respiratoryrate', 'sodium',\n",
    "              'heartrate', 'meanbp', 'ph', 'hematocrit', 'creatinine', 'albumin', 'pao2', 'pco2', 'bun', 'glucose',\n",
    "              'bilirubin', 'fio2', 'status', 'detail', 'severity', 'unit', 'hospital']\n",
    "header = init.init_dict(aps_header)\n",
    "header[header[4]] = 0\n",
    "print(header)"
   ],
   "metadata": {
    "collapsed": false,
    "pycharm": {
     "name": "#%%\n"
    }
   }
  },
  {
   "cell_type": "code",
   "execution_count": null,
   "outputs": [],
   "source": [],
   "metadata": {
    "collapsed": false,
    "pycharm": {
     "name": "#%%\n"
    }
   }
  },
  {
   "cell_type": "code",
   "execution_count": 24,
   "outputs": [
    {
     "name": "stdout",
     "output_type": "stream",
     "text": [
      "200\n"
     ]
    }
   ],
   "source": [
    "header = {'warfarin': 0, 'dobutamine': 0, 'Dopamine': 0, 'epinephrine': 0, 'Heparin': 0, 'Milrinone': 0,\n",
    "          'Norepinephrine': 0,\n",
    "          'phenylephrine': 0, 'vasopressin': 0, 'Vasopressor': 0, 'Acute_Coronary_Syndrome_diagnosis': 0,\n",
    "          'Acute_Myocardial_Infarction': 0, 'Acute_Renal_Failure': 0, 'Arrhythmia': 0, 'Asthma_Emphysema': 0,\n",
    "          'Cancer': 0,\n",
    "          'Cardiac_Arrest': 0, 'Cardiogenic_Shock': 0, 'Cardiovascular_Medical': 0, 'Cardiovascular_Other': 0,\n",
    "          'Cerebrovascular_Accident_Stroke': 0, 'Chest_Pain_Unknown_Origin': 0, 'Coma': 0,\n",
    "          'Coronary_Artery_Bypass_Graft': 0,\n",
    "          'Diabetic_Ketoacidosis': 0, 'Gastrointestinal_Bleed': 0, 'Gastrointestinal_Obstruction': 0,\n",
    "          'Neurologic': 0,\n",
    "          'Overdose': 0, 'Pneumonia': 0, 'Respiratory_Medical_Other': 0, 'Sepsis': 0, 'Thoracotomy': 0, 'Trauma': 0,\n",
    "          'Valve_Disease': 0, 'admitsource': 0, 'age': 0, 'gender': 0, 'BMI': 0, 'status': 0, 'admission_score': 0,\n",
    "          'Albumin_median': 0, 'ALT (SGPT)_median': 0, 'AST (SGOT)_median': 0, '-bands_median': 0,\n",
    "          'Base Excess_median': 0, '-basos_median': 0, 'bicarbonate_median': 0, 'total bilirubin_median': 0,\n",
    "          'BUN_median': 0, 'calcium_median': 0, 'Total CO2_median': 0, 'creatinine_median': 0, '-eos_median': 0,\n",
    "          'FiO2_median': 0, 'glucose_median': 0, 'Hemoglobin_median': 0, 'PT - INR_median': 0,\n",
    "          'ionized calcium_median': 0, 'lactate_median': 0, 'magnesium_median': 0, 'paCO2_median': 0,\n",
    "          'PaO2_median': 0,\n",
    "          'P/F ratio_median': 0, 'PEEP_median': 0, 'pH_median': 0, 'platelets x 1000_median': 0,\n",
    "          'potassium_median': 0,\n",
    "          'PTT_median': 0, 'sodium_median': 0, 'Temperature_median': 0, 'WBC x 1000_median': 0,\n",
    "          'Mean airway pressure_median': 0, 'Plateau Pressure_median': 0, 'SaO2_median': 0,\n",
    "          'Tidal Volume (set)_median': 0, 'cvp_median': 0, 'etCO2_median': 0, 'padiastolic_median': 0,\n",
    "          'pamean_median': 0, 'pasystolic_median': 0, 'Eyes_median': 0, 'GCS Total_median': 0, 'Motor_median': 0,\n",
    "          'Verbal_median': 0, 'Heart Rate_median': 0, 'Invasive BP Diastolic_median': 0,\n",
    "          'Invasive BP Mean_median': 0,\n",
    "          'Invasive BP Systolic_median': 0, 'Non-Invasive BP Diastolic_median': 0, 'Non-Invasive BP Mean_median': 0,\n",
    "          'Non-Invasive BP Systolic_median': 0, 'Respiratory rate_median': 0, 'PIP_median': 0,\n",
    "          'Albumin_variances': 0,\n",
    "          'ALT (SGPT)_variances': 0, 'AST (SGOT)_variances': 0, '-bands_variances': 0, 'Base Excess_variances': 0,\n",
    "          '-basos_variances': 0, 'bicarbonate_variances': 0, 'total bilirubin_variances': 0, 'BUN_variances': 0,\n",
    "          'calcium_variances': 0, 'Total CO2_variances': 0, 'creatinine_variances': 0, '-eos_variances': 0,\n",
    "          'FiO2_variances': 0, 'glucose_variances': 0, 'Hemoglobin_variances': 0, 'PT - INR_variances': 0,\n",
    "          'ionized calcium_variances': 0, 'lactate_variances': 0, 'magnesium_variances': 0, 'paCO2_variances': 0,\n",
    "          'PaO2_variances': 0, 'P/F ratio_variances': 0, 'PEEP_variances': 0, 'pH_variances': 0,\n",
    "          'platelets x 1000_variances': 0, 'potassium_variances': 0, 'PTT_variances': 0, 'sodium_variances': 0,\n",
    "          'Temperature_variances': 0, 'WBC x 1000_variances': 0, 'Mean airway pressure_variances': 0,\n",
    "          'Plateau Pressure_variances': 0, 'SaO2_variances': 0, 'Tidal Volume (set)_variances': 0,\n",
    "          'cvp_variances': 0,\n",
    "          'etCO2_variances': 0, 'padiastolic_variances': 0, 'pamean_variances': 0, 'pasystolic_variances': 0,\n",
    "          'Eyes_variances': 0, 'GCS Total_variances': 0, 'Motor_variances': 0, 'Verbal_variances': 0,\n",
    "          'Heart Rate_variances': 0, 'Invasive BP Diastolic_variances': 0, 'Invasive BP Mean_variances': 0,\n",
    "          'Invasive BP Systolic_variances': 0, 'Non-Invasive BP Diastolic_variances': 0,\n",
    "          'Non-Invasive BP Mean_variances': 0, 'Non-Invasive BP Systolic_variances': 0,\n",
    "          'Respiratory rate_variances': 0,\n",
    "          'PIP_variances': 0, 'Albumin_changerate': 0, 'ALT (SGPT)_changerate': 0, 'AST (SGOT)_changerate': 0,\n",
    "          '-bands_changerate': 0, 'Base Excess_changerate': 0, '-basos_changerate': 0, 'bicarbonate_changerate': 0,\n",
    "          'total bilirubin_changerate': 0, 'BUN_changerate': 0, 'calcium_changerate': 0, 'Total CO2_changerate': 0,\n",
    "          'creatinine_changerate': 0, '-eos_changerate': 0, 'FiO2_changerate': 0, 'glucose_changerate': 0,\n",
    "          'Hemoglobin_changerate': 0, 'PT - INR_changerate': 0, 'ionized calcium_changerate': 0,\n",
    "          'lactate_changerate': 0, 'magnesium_changerate': 0, 'paCO2_changerate': 0, 'PaO2_changerate': 0,\n",
    "          'P/F ratio_changerate': 0, 'PEEP_changerate': 0, 'pH_changerate': 0, 'platelets x 1000_changerate': 0,\n",
    "          'potassium_changerate': 0, 'PTT_changerate': 0, 'sodium_changerate': 0, 'Temperature_changerate': 0,\n",
    "          'WBC x 1000_changerate': 0, 'Mean airway pressure_changerate': 0, 'Plateau Pressure_changerate': 0,\n",
    "          'SaO2_changerate': 0, 'Tidal Volume (set)_changerate': 0, 'cvp_changerate': 0, 'etCO2_changerate': 0,\n",
    "          'padiastolic_changerate': 0, 'pamean_changerate': 0, 'pasystolic_changerate': 0, 'Eyes_changerate': 0,\n",
    "          'GCS Total_changerate': 0, 'Motor_changerate': 0, 'Verbal_changerate': 0, 'Heart Rate_changerate': 0,\n",
    "          'Invasive BP Diastolic_changerate': 0, 'Invasive BP Mean_changerate': 0,\n",
    "          'Invasive BP Systolic_changerate': 0,\n",
    "          'Non-Invasive BP Diastolic_changerate': 0, 'Non-Invasive BP Mean_changerate': 0,\n",
    "          'Non-Invasive BP Systolic_changerate': 0, 'Respiratory rate_changerate': 0, 'PIP_changerate': 0}\n",
    "print(len(header))"
   ],
   "metadata": {
    "collapsed": false,
    "pycharm": {
     "name": "#%%\n"
    }
   }
  },
  {
   "cell_type": "code",
   "execution_count": 26,
   "outputs": [
    {
     "name": "stdout",
     "output_type": "stream",
     "text": [
      "53\n"
     ]
    }
   ],
   "source": [
    "dict = {'Albumin_median': 0, 'ALT (SGPT)_median': 0, 'AST (SGOT)_median': 0, '-bands_median': 0,\n",
    "        'Base Excess_median': 0, '-basos_median': 0, 'bicarbonate_median': 0, 'total bilirubin_median': 0,\n",
    "        'BUN_median': 0, 'calcium_median': 0, 'Total CO2_median': 0, 'creatinine_median': 0, '-eos_median': 0,\n",
    "        'FiO2_median': 0, 'glucose_median': 0, 'Hemoglobin_median': 0, 'PT - INR_median': 0,\n",
    "        'ionized calcium_median': 0, 'lactate_median': 0, 'magnesium_median': 0, 'paCO2_median': 0,\n",
    "        'PaO2_median': 0,\n",
    "        'P/F ratio_median': 0, 'PEEP_median': 0, 'pH_median': 0, 'platelets x 1000_median': 0,\n",
    "        'potassium_median': 0,\n",
    "        'PTT_median': 0, 'sodium_median': 0, 'Temperature_median': 0, 'WBC x 1000_median': 0,\n",
    "        'Mean airway pressure_median': 0, 'Plateau Pressure_median': 0, 'SaO2_median': 0,\n",
    "        'Tidal Volume (set)_median': 0, 'cvp_median': 0, 'etCO2_median': 0, 'padiastolic_median': 0,\n",
    "        'pamean_median': 0, 'pasystolic_median': 0, 'Eyes_median': 0, 'GCS Total_median': 0, 'Motor_median': 0,\n",
    "        'Verbal_median': 0, 'Heart Rate_median': 0, 'Invasive BP Diastolic_median': 0,\n",
    "        'Invasive BP Mean_median': 0,\n",
    "        'Invasive BP Systolic_median': 0, 'Non-Invasive BP Diastolic_median': 0, 'Non-Invasive BP Mean_median': 0,\n",
    "        'Non-Invasive BP Systolic_median': 0, 'Respiratory rate_median': 0, 'PIP_median': 0}\n",
    "print(len(dict))"
   ],
   "metadata": {
    "collapsed": false,
    "pycharm": {
     "name": "#%%\n"
    }
   }
  },
  {
   "cell_type": "code",
   "execution_count": 28,
   "outputs": [
    {
     "name": "stdout",
     "output_type": "stream",
     "text": [
      "True\n"
     ]
    }
   ],
   "source": [
    "dynamic_name_list = ['Albumin', 'ALT (SGPT)', 'AST (SGOT)', '-bands', 'Base Excess', '-basos', 'bicarbonate',\n",
    "                     'total bilirubin', 'BUN', 'calcium', 'Total CO2', 'creatinine', '-eos', 'FiO2', 'glucose',\n",
    "                     'Hemoglobin', 'PT - INR', 'ionized calcium', 'lactate', 'magnesium', 'paCO2', 'PaO2', 'P/F ratio',\n",
    "                     'PEEP', 'pH', 'platelets x 1000', 'potassium', 'PTT', 'sodium', 'Temperature', 'WBC x 1000',\n",
    "                     'Mean airway pressure', 'Plateau Pressure', 'SaO2', 'Tidal Volume (set)', 'cvp', 'etCO2',\n",
    "                     'padiastolic', 'pamean', 'pasystolic', 'Eyes', 'GCS Total', 'Motor',\n",
    "                     'Verbal', 'Heart Rate', 'Invasive BP Diastolic', 'Invasive BP Mean',\n",
    "                     'Invasive BP Systolic', 'Non-Invasive BP Diastolic', 'Non-Invasive BP Mean',\n",
    "                     'Non-Invasive BP Systolic', 'Respiratory rate', 'PIP']\n",
    "boo = ('Total CO2' in dynamic_name_list)\n",
    "print(boo)"
   ],
   "metadata": {
    "collapsed": false,
    "pycharm": {
     "name": "#%%\n"
    }
   }
  },
  {
   "cell_type": "code",
   "execution_count": 29,
   "outputs": [],
   "source": [
    "import psycopg2\n",
    "\n",
    "conn = psycopg2.connect(database=\"eicu\", user=\"postgres\", password=\"123456\", host=\"172.16.60.173\", port=\"3307\")\n",
    "cursor = conn.cursor()\n",
    "sql = \"set search_path to 'eicu_crd'\"\n",
    "cursor.execute(sql)"
   ],
   "metadata": {
    "collapsed": false,
    "pycharm": {
     "name": "#%%\n"
    }
   }
  },
  {
   "cell_type": "code",
   "execution_count": 33,
   "outputs": [
    {
     "name": "stdout",
     "output_type": "stream",
     "text": [
      "41\n",
      "{'warfarin': 0, 'dobutamine': 0, 'Dopamine': 0, 'epinephrine': 0, 'Heparin': 0, 'Milrinone': 0, 'Norepinephrine': 0, 'phenylephrine': 0, 'vasopressin': 0, 'Vasopressor': 0, 'Acute_Coronary_Syndrome_diagnosis': 0, 'Acute_Myocardial_Infarction': 0, 'Acute_Renal_Failure': 0, 'Arrhythmia': 0, 'Asthma_Emphysema': 0, 'Cancer': 0, 'Cardiac_Arrest': 0, 'Cardiogenic_Shock': 0, 'Cardiovascular_Medical': 0, 'Cardiovascular_Other': 0, 'Cerebrovascular_Accident_Stroke': 0, 'Chest_Pain_Unknown_Origin': 0, 'Coma': 0, 'Coronary_Artery_Bypass_Graft': 0, 'Diabetic_Ketoacidosis': 0, 'Gastrointestinal_Bleed': 0, 'Gastrointestinal_Obstruction': 0, 'Neurologic': 0, 'Overdose': 0, 'Pneumonia': 0, 'Respiratory_Medical_Other': 1, 'Sepsis': 0, 'Thoracotomy': 0, 'Trauma': 0, 'Valve_Disease': 0, 'admitsource': 'Floor', 'age': '70', 'gender': 'Male', 'BMI': None, 'status': 'Expired', 'admission_score': 101, 'Albumin_median': 0, 'ALT (SGPT)_median': 0, 'AST (SGOT)_median': 0, '-bands_median': 0, 'Base Excess_median': 0, '-basos_median': 0, 'bicarbonate_median': 0, 'total bilirubin_median': 0, 'BUN_median': 0, 'calcium_median': 0, 'Total CO2_median': 0, 'creatinine_median': 0, '-eos_median': 0, 'FiO2_median': 0, 'glucose_median': 0, 'Hemoglobin_median': 0, 'PT - INR_median': 0, 'ionized calcium_median': 0, 'lactate_median': 0, 'magnesium_median': 0, 'paCO2_median': 0, 'PaO2_median': 0, 'P/F ratio_median': 0, 'PEEP_median': 0, 'pH_median': 0, 'platelets x 1000_median': 0, 'potassium_median': 0, 'PTT_median': 0, 'sodium_median': 0, 'Temperature_median': 0, 'WBC x 1000_median': 0, 'Mean airway pressure_median': 0, 'Plateau Pressure_median': 0, 'SaO2_median': 0, 'Tidal Volume (set)_median': 0, 'cvp_median': 0, 'etCO2_median': 0, 'padiastolic_median': 0, 'pamean_median': 0, 'pasystolic_median': 0, 'Eyes_median': 0, 'GCS Total_median': 0, 'Motor_median': 0, 'Verbal_median': 0, 'Heart Rate_median': 0, 'Invasive BP Diastolic_median': 0, 'Invasive BP Mean_median': 0, 'Invasive BP Systolic_median': 0, 'Non-Invasive BP Diastolic_median': 0, 'Non-Invasive BP Mean_median': 0, 'Non-Invasive BP Systolic_median': 0, 'Respiratory rate_median': 0, 'PIP_median': 0, 'Albumin_variances': 0, 'ALT (SGPT)_variances': 0, 'AST (SGOT)_variances': 0, '-bands_variances': 0, 'Base Excess_variances': 0, '-basos_variances': 0, 'bicarbonate_variances': 0, 'total bilirubin_variances': 0, 'BUN_variances': 0, 'calcium_variances': 0, 'Total CO2_variances': 0, 'creatinine_variances': 0, '-eos_variances': 0, 'FiO2_variances': 0, 'glucose_variances': 0, 'Hemoglobin_variances': 0, 'PT - INR_variances': 0, 'ionized calcium_variances': 0, 'lactate_variances': 0, 'magnesium_variances': 0, 'paCO2_variances': 0, 'PaO2_variances': 0, 'P/F ratio_variances': 0, 'PEEP_variances': 0, 'pH_variances': 0, 'platelets x 1000_variances': 0, 'potassium_variances': 0, 'PTT_variances': 0, 'sodium_variances': 0, 'Temperature_variances': 0, 'WBC x 1000_variances': 0, 'Mean airway pressure_variances': 0, 'Plateau Pressure_variances': 0, 'SaO2_variances': 0, 'Tidal Volume (set)_variances': 0, 'cvp_variances': 0, 'etCO2_variances': 0, 'padiastolic_variances': 0, 'pamean_variances': 0, 'pasystolic_variances': 0, 'Eyes_variances': 0, 'GCS Total_variances': 0, 'Motor_variances': 0, 'Verbal_variances': 0, 'Heart Rate_variances': 0, 'Invasive BP Diastolic_variances': 0, 'Invasive BP Mean_variances': 0, 'Invasive BP Systolic_variances': 0, 'Non-Invasive BP Diastolic_variances': 0, 'Non-Invasive BP Mean_variances': 0, 'Non-Invasive BP Systolic_variances': 0, 'Respiratory rate_variances': 0, 'PIP_variances': 0, 'Albumin_changerate': 0, 'ALT (SGPT)_changerate': 0, 'AST (SGOT)_changerate': 0, '-bands_changerate': 0, 'Base Excess_changerate': 0, '-basos_changerate': 0, 'bicarbonate_changerate': 0, 'total bilirubin_changerate': 0, 'BUN_changerate': 0, 'calcium_changerate': 0, 'Total CO2_changerate': 0, 'creatinine_changerate': 0, '-eos_changerate': 0, 'FiO2_changerate': 0, 'glucose_changerate': 0, 'Hemoglobin_changerate': 0, 'PT - INR_changerate': 0, 'ionized calcium_changerate': 0, 'lactate_changerate': 0, 'magnesium_changerate': 0, 'paCO2_changerate': 0, 'PaO2_changerate': 0, 'P/F ratio_changerate': 0, 'PEEP_changerate': 0, 'pH_changerate': 0, 'platelets x 1000_changerate': 0, 'potassium_changerate': 0, 'PTT_changerate': 0, 'sodium_changerate': 0, 'Temperature_changerate': 0, 'WBC x 1000_changerate': 0, 'Mean airway pressure_changerate': 0, 'Plateau Pressure_changerate': 0, 'SaO2_changerate': 0, 'Tidal Volume (set)_changerate': 0, 'cvp_changerate': 0, 'etCO2_changerate': 0, 'padiastolic_changerate': 0, 'pamean_changerate': 0, 'pasystolic_changerate': 0, 'Eyes_changerate': 0, 'GCS Total_changerate': 0, 'Motor_changerate': 0, 'Verbal_changerate': 0, 'Heart Rate_changerate': 0, 'Invasive BP Diastolic_changerate': 0, 'Invasive BP Mean_changerate': 0, 'Invasive BP Systolic_changerate': 0, 'Non-Invasive BP Diastolic_changerate': 0, 'Non-Invasive BP Mean_changerate': 0, 'Non-Invasive BP Systolic_changerate': 0, 'Respiratory rate_changerate': 0, 'PIP_changerate': 0}\n"
     ]
    }
   ],
   "source": [],
   "metadata": {
    "collapsed": false,
    "pycharm": {
     "name": "#%%\n"
    }
   }
  },
  {
   "cell_type": "code",
   "execution_count": 5,
   "outputs": [
    {
     "name": "stdout",
     "output_type": "stream",
     "text": [
      "weight:  {'f40': 2.0, 'f41': 1.0, 'f56': 2.0, 'f60': 1.0, 'f110': 1.0, 'f118': 1.0, 'f122': 1.0, 'f128': 1.0, 'f132': 1.0, 'f141': 1.0, 'f152': 1.0, 'f185': 1.0, 'f197': 1.0}\n",
      "gain:  {'f40': 91.553955078125, 'f41': 9.27618408203125, 'f56': 50.89414978027344, 'f60': 4.3336944580078125, 'f110': 5.66131591796875, 'f118': 6.9080986976623535, 'f122': 13.640380859375, 'f128': 13.164972305297852, 'f132': 51.01849365234375, 'f141': 16.76312255859375, 'f152': 4.8665924072265625, 'f185': 3.945526123046875, 'f197': 4.237213134765625}\n",
      "cover:  {'f40': 5593.5, 'f41': 331.0, 'f56': 3457.0, 'f60': 53.0, 'f110': 571.0, 'f118': 904.0, 'f122': 3732.0, 'f128': 1475.0, 'f132': 5260.0, 'f141': 2275.0, 'f152': 130.0, 'f185': 201.0, 'f197': 523.0}\n",
      "total_gain:  {'f40': 183.10791015625, 'f41': 9.27618408203125, 'f56': 101.78829956054688, 'f60': 4.3336944580078125, 'f110': 5.66131591796875, 'f118': 6.9080986976623535, 'f122': 13.640380859375, 'f128': 13.164972305297852, 'f132': 51.01849365234375, 'f141': 16.76312255859375, 'f152': 4.8665924072265625, 'f185': 3.945526123046875, 'f197': 4.237213134765625}\n",
      "total_cover:  {'f40': 11187.0, 'f41': 331.0, 'f56': 6914.0, 'f60': 53.0, 'f110': 571.0, 'f118': 904.0, 'f122': 3732.0, 'f128': 1475.0, 'f132': 5260.0, 'f141': 2275.0, 'f152': 130.0, 'f185': 201.0, 'f197': 523.0}\n"
     ]
    },
    {
     "data": {
      "image/svg+xml": "<?xml version=\"1.0\" encoding=\"UTF-8\" standalone=\"no\"?>\n<!DOCTYPE svg PUBLIC \"-//W3C//DTD SVG 1.1//EN\"\n \"http://www.w3.org/Graphics/SVG/1.1/DTD/svg11.dtd\">\n<!-- Generated by graphviz version 4.0.0 (20220529.0937)\n -->\n<!-- Pages: 1 -->\n<svg width=\"2747pt\" height=\"392pt\"\n viewBox=\"0.00 0.00 2746.69 392.00\" xmlns=\"http://www.w3.org/2000/svg\" xmlns:xlink=\"http://www.w3.org/1999/xlink\">\n<g id=\"graph0\" class=\"graph\" transform=\"scale(1 1) rotate(0) translate(4 388)\">\n<polygon fill=\"white\" stroke=\"transparent\" points=\"-4,4 -4,-388 2742.69,-388 2742.69,4 -4,4\"/>\n<!-- 0 -->\n<g id=\"node1\" class=\"node\">\n<title>0</title>\n<ellipse fill=\"none\" stroke=\"black\" cx=\"1383.29\" cy=\"-366\" rx=\"43.59\" ry=\"18\"/>\n<text text-anchor=\"middle\" x=\"1383.29\" y=\"-362.3\" font-family=\"Times New Roman,serif\" font-size=\"14.00\">f40&lt;81.5</text>\n</g>\n<!-- 1 -->\n<g id=\"node2\" class=\"node\">\n<title>1</title>\n<ellipse fill=\"none\" stroke=\"black\" cx=\"1033.29\" cy=\"-279\" rx=\"51.99\" ry=\"18\"/>\n<text text-anchor=\"middle\" x=\"1033.29\" y=\"-275.3\" font-family=\"Times New Roman,serif\" font-size=\"14.00\">f132&lt;12.75</text>\n</g>\n<!-- 0&#45;&gt;1 -->\n<g id=\"edge1\" class=\"edge\">\n<title>0&#45;&gt;1</title>\n<path fill=\"none\" stroke=\"#0000ff\" d=\"M1346.83,-356.14C1284.25,-340.95 1156.25,-309.86 1084.66,-292.47\"/>\n<polygon fill=\"#0000ff\" stroke=\"#0000ff\" points=\"1085.07,-288.97 1074.52,-290.01 1083.41,-295.77 1085.07,-288.97\"/>\n<text text-anchor=\"middle\" x=\"1263.79\" y=\"-318.8\" font-family=\"Times New Roman,serif\" font-size=\"14.00\">yes, missing</text>\n</g>\n<!-- 2 -->\n<g id=\"node3\" class=\"node\">\n<title>2</title>\n<ellipse fill=\"none\" stroke=\"black\" cx=\"1731.29\" cy=\"-279\" rx=\"65.79\" ry=\"18\"/>\n<text text-anchor=\"middle\" x=\"1731.29\" y=\"-275.3\" font-family=\"Times New Roman,serif\" font-size=\"14.00\">f56&lt;6.5250001</text>\n</g>\n<!-- 0&#45;&gt;2 -->\n<g id=\"edge2\" class=\"edge\">\n<title>0&#45;&gt;2</title>\n<path fill=\"none\" stroke=\"#ff0000\" d=\"M1419.88,-356.06C1480.46,-341.27 1602.07,-311.56 1674.09,-293.97\"/>\n<polygon fill=\"#ff0000\" stroke=\"#ff0000\" points=\"1675.02,-297.35 1683.91,-291.57 1673.36,-290.55 1675.02,-297.35\"/>\n<text text-anchor=\"middle\" x=\"1585.79\" y=\"-318.8\" font-family=\"Times New Roman,serif\" font-size=\"14.00\">no</text>\n</g>\n<!-- 3 -->\n<g id=\"node4\" class=\"node\">\n<title>3</title>\n<ellipse fill=\"none\" stroke=\"black\" cx=\"525.29\" cy=\"-192\" rx=\"69.59\" ry=\"18\"/>\n<text text-anchor=\"middle\" x=\"525.29\" y=\"-188.3\" font-family=\"Times New Roman,serif\" font-size=\"14.00\">f56&lt;6.94999981</text>\n</g>\n<!-- 1&#45;&gt;3 -->\n<g id=\"edge3\" class=\"edge\">\n<title>1&#45;&gt;3</title>\n<path fill=\"none\" stroke=\"#0000ff\" d=\"M987.32,-270.31C897.14,-255.22 696.77,-221.69 592.02,-204.16\"/>\n<polygon fill=\"#0000ff\" stroke=\"#0000ff\" points=\"592.32,-200.67 581.88,-202.47 591.16,-207.57 592.32,-200.67\"/>\n<text text-anchor=\"middle\" x=\"844.79\" y=\"-231.8\" font-family=\"Times New Roman,serif\" font-size=\"14.00\">yes, missing</text>\n</g>\n<!-- 4 -->\n<g id=\"node5\" class=\"node\">\n<title>4</title>\n<ellipse fill=\"none\" stroke=\"black\" cx=\"1033.29\" cy=\"-192\" rx=\"74.19\" ry=\"18\"/>\n<text text-anchor=\"middle\" x=\"1033.29\" y=\"-188.3\" font-family=\"Times New Roman,serif\" font-size=\"14.00\">f128&lt;171.179993</text>\n</g>\n<!-- 1&#45;&gt;4 -->\n<g id=\"edge4\" class=\"edge\">\n<title>1&#45;&gt;4</title>\n<path fill=\"none\" stroke=\"#ff0000\" d=\"M1033.29,-260.8C1033.29,-249.16 1033.29,-233.55 1033.29,-220.24\"/>\n<polygon fill=\"#ff0000\" stroke=\"#ff0000\" points=\"1036.79,-220.18 1033.29,-210.18 1029.79,-220.18 1036.79,-220.18\"/>\n<text text-anchor=\"middle\" x=\"1040.79\" y=\"-231.8\" font-family=\"Times New Roman,serif\" font-size=\"14.00\">no</text>\n</g>\n<!-- 5 -->\n<g id=\"node18\" class=\"node\">\n<title>5</title>\n<ellipse fill=\"none\" stroke=\"black\" cx=\"1731.29\" cy=\"-192\" rx=\"48.19\" ry=\"18\"/>\n<text text-anchor=\"middle\" x=\"1731.29\" y=\"-188.3\" font-family=\"Times New Roman,serif\" font-size=\"14.00\">f40&lt;121.5</text>\n</g>\n<!-- 2&#45;&gt;5 -->\n<g id=\"edge17\" class=\"edge\">\n<title>2&#45;&gt;5</title>\n<path fill=\"none\" stroke=\"#0000ff\" d=\"M1731.29,-260.8C1731.29,-249.16 1731.29,-233.55 1731.29,-220.24\"/>\n<polygon fill=\"#0000ff\" stroke=\"#0000ff\" points=\"1734.79,-220.18 1731.29,-210.18 1727.79,-220.18 1734.79,-220.18\"/>\n<text text-anchor=\"middle\" x=\"1765.79\" y=\"-231.8\" font-family=\"Times New Roman,serif\" font-size=\"14.00\">yes, missing</text>\n</g>\n<!-- 6 -->\n<g id=\"node19\" class=\"node\">\n<title>6</title>\n<ellipse fill=\"none\" stroke=\"black\" cx=\"2217.29\" cy=\"-192\" rx=\"69.59\" ry=\"18\"/>\n<text text-anchor=\"middle\" x=\"2217.29\" y=\"-188.3\" font-family=\"Times New Roman,serif\" font-size=\"14.00\">f41&lt;7.25500011</text>\n</g>\n<!-- 2&#45;&gt;6 -->\n<g id=\"edge18\" class=\"edge\">\n<title>2&#45;&gt;6</title>\n<path fill=\"none\" stroke=\"#ff0000\" d=\"M1785.16,-268.58C1874.79,-252.9 2054.26,-221.51 2151.33,-204.54\"/>\n<polygon fill=\"#ff0000\" stroke=\"#ff0000\" points=\"2152.07,-207.96 2161.31,-202.79 2150.86,-201.07 2152.07,-207.96\"/>\n<text text-anchor=\"middle\" x=\"2011.79\" y=\"-231.8\" font-family=\"Times New Roman,serif\" font-size=\"14.00\">no</text>\n</g>\n<!-- 7 -->\n<g id=\"node6\" class=\"node\">\n<title>7</title>\n<ellipse fill=\"none\" stroke=\"black\" cx=\"252.29\" cy=\"-105\" rx=\"74.19\" ry=\"18\"/>\n<text text-anchor=\"middle\" x=\"252.29\" y=\"-101.3\" font-family=\"Times New Roman,serif\" font-size=\"14.00\">f122&lt;4.77000046</text>\n</g>\n<!-- 3&#45;&gt;7 -->\n<g id=\"edge5\" class=\"edge\">\n<title>3&#45;&gt;7</title>\n<path fill=\"none\" stroke=\"#0000ff\" d=\"M482.64,-177.72C434.88,-162.85 357.41,-138.73 305.67,-122.62\"/>\n<polygon fill=\"#0000ff\" stroke=\"#0000ff\" points=\"306.59,-119.24 296,-119.61 304.51,-125.92 306.59,-119.24\"/>\n<text text-anchor=\"middle\" x=\"439.79\" y=\"-144.8\" font-family=\"Times New Roman,serif\" font-size=\"14.00\">yes, missing</text>\n</g>\n<!-- 8 -->\n<g id=\"node7\" class=\"node\">\n<title>8</title>\n<ellipse fill=\"none\" stroke=\"black\" cx=\"525.29\" cy=\"-105\" rx=\"69.59\" ry=\"18\"/>\n<text text-anchor=\"middle\" x=\"525.29\" y=\"-101.3\" font-family=\"Times New Roman,serif\" font-size=\"14.00\">f60&lt;855.290039</text>\n</g>\n<!-- 3&#45;&gt;8 -->\n<g id=\"edge6\" class=\"edge\">\n<title>3&#45;&gt;8</title>\n<path fill=\"none\" stroke=\"#ff0000\" d=\"M525.29,-173.8C525.29,-162.16 525.29,-146.55 525.29,-133.24\"/>\n<polygon fill=\"#ff0000\" stroke=\"#ff0000\" points=\"528.79,-133.18 525.29,-123.18 521.79,-133.18 528.79,-133.18\"/>\n<text text-anchor=\"middle\" x=\"532.79\" y=\"-144.8\" font-family=\"Times New Roman,serif\" font-size=\"14.00\">no</text>\n</g>\n<!-- 9 -->\n<g id=\"node12\" class=\"node\">\n<title>9</title>\n<ellipse fill=\"none\" stroke=\"black\" cx=\"945.29\" cy=\"-105\" rx=\"78.79\" ry=\"18\"/>\n<text text-anchor=\"middle\" x=\"945.29\" y=\"-101.3\" font-family=\"Times New Roman,serif\" font-size=\"14.00\">f110&lt;0.389999986</text>\n</g>\n<!-- 4&#45;&gt;9 -->\n<g id=\"edge11\" class=\"edge\">\n<title>4&#45;&gt;9</title>\n<path fill=\"none\" stroke=\"#0000ff\" d=\"M1011.17,-174.64C1003.97,-169 996.08,-162.46 989.29,-156 981.04,-148.15 972.62,-138.93 965.39,-130.57\"/>\n<polygon fill=\"#0000ff\" stroke=\"#0000ff\" points=\"968,-128.24 958.86,-122.88 962.67,-132.77 968,-128.24\"/>\n<text text-anchor=\"middle\" x=\"1023.79\" y=\"-144.8\" font-family=\"Times New Roman,serif\" font-size=\"14.00\">yes, missing</text>\n</g>\n<!-- 10 -->\n<g id=\"node13\" class=\"node\">\n<title>10</title>\n<ellipse fill=\"none\" stroke=\"black\" cx=\"1122.29\" cy=\"-105\" rx=\"78.79\" ry=\"18\"/>\n<text text-anchor=\"middle\" x=\"1122.29\" y=\"-101.3\" font-family=\"Times New Roman,serif\" font-size=\"14.00\">f118&lt;0.145000011</text>\n</g>\n<!-- 4&#45;&gt;10 -->\n<g id=\"edge12\" class=\"edge\">\n<title>4&#45;&gt;10</title>\n<path fill=\"none\" stroke=\"#ff0000\" d=\"M1050.88,-174.21C1064.16,-161.52 1082.58,-143.93 1097.38,-129.79\"/>\n<polygon fill=\"#ff0000\" stroke=\"#ff0000\" points=\"1099.93,-132.2 1104.75,-122.76 1095.1,-127.13 1099.93,-132.2\"/>\n<text text-anchor=\"middle\" x=\"1090.79\" y=\"-144.8\" font-family=\"Times New Roman,serif\" font-size=\"14.00\">no</text>\n</g>\n<!-- 15 -->\n<g id=\"node8\" class=\"node\">\n<title>15</title>\n<ellipse fill=\"none\" stroke=\"black\" cx=\"79.29\" cy=\"-18\" rx=\"79.09\" ry=\"18\"/>\n<text text-anchor=\"middle\" x=\"79.29\" y=\"-14.3\" font-family=\"Times New Roman,serif\" font-size=\"14.00\">leaf=0.0813616142</text>\n</g>\n<!-- 7&#45;&gt;15 -->\n<g id=\"edge7\" class=\"edge\">\n<title>7&#45;&gt;15</title>\n<path fill=\"none\" stroke=\"#0000ff\" d=\"M219.89,-88.61C207.21,-82.54 192.55,-75.49 179.29,-69 159.55,-59.33 137.7,-48.43 119.48,-39.28\"/>\n<polygon fill=\"#0000ff\" stroke=\"#0000ff\" points=\"120.81,-36.04 110.31,-34.67 117.67,-42.29 120.81,-36.04\"/>\n<text text-anchor=\"middle\" x=\"213.79\" y=\"-57.8\" font-family=\"Times New Roman,serif\" font-size=\"14.00\">yes, missing</text>\n</g>\n<!-- 16 -->\n<g id=\"node9\" class=\"node\">\n<title>16</title>\n<ellipse fill=\"none\" stroke=\"black\" cx=\"252.29\" cy=\"-18\" rx=\"75.29\" ry=\"18\"/>\n<text text-anchor=\"middle\" x=\"252.29\" y=\"-14.3\" font-family=\"Times New Roman,serif\" font-size=\"14.00\">leaf=0.119309627</text>\n</g>\n<!-- 7&#45;&gt;16 -->\n<g id=\"edge8\" class=\"edge\">\n<title>7&#45;&gt;16</title>\n<path fill=\"none\" stroke=\"#ff0000\" d=\"M252.29,-86.8C252.29,-75.16 252.29,-59.55 252.29,-46.24\"/>\n<polygon fill=\"#ff0000\" stroke=\"#ff0000\" points=\"255.79,-46.18 252.29,-36.18 248.79,-46.18 255.79,-46.18\"/>\n<text text-anchor=\"middle\" x=\"259.79\" y=\"-57.8\" font-family=\"Times New Roman,serif\" font-size=\"14.00\">no</text>\n</g>\n<!-- 17 -->\n<g id=\"node10\" class=\"node\">\n<title>17</title>\n<ellipse fill=\"none\" stroke=\"black\" cx=\"421.29\" cy=\"-18\" rx=\"75.29\" ry=\"18\"/>\n<text text-anchor=\"middle\" x=\"421.29\" y=\"-14.3\" font-family=\"Times New Roman,serif\" font-size=\"14.00\">leaf=0.370833367</text>\n</g>\n<!-- 8&#45;&gt;17 -->\n<g id=\"edge9\" class=\"edge\">\n<title>8&#45;&gt;17</title>\n<path fill=\"none\" stroke=\"#0000ff\" d=\"M503.55,-87.89C495.81,-82.04 487.09,-75.32 479.29,-69 468.7,-60.41 457.28,-50.68 447.4,-42.1\"/>\n<polygon fill=\"#0000ff\" stroke=\"#0000ff\" points=\"449.69,-39.45 439.85,-35.51 445.08,-44.72 449.69,-39.45\"/>\n<text text-anchor=\"middle\" x=\"513.79\" y=\"-57.8\" font-family=\"Times New Roman,serif\" font-size=\"14.00\">yes, missing</text>\n</g>\n<!-- 18 -->\n<g id=\"node11\" class=\"node\">\n<title>18</title>\n<ellipse fill=\"none\" stroke=\"black\" cx=\"585.29\" cy=\"-18\" rx=\"70.69\" ry=\"18\"/>\n<text text-anchor=\"middle\" x=\"585.29\" y=\"-14.3\" font-family=\"Times New Roman,serif\" font-size=\"14.00\">leaf=0.17368421</text>\n</g>\n<!-- 8&#45;&gt;18 -->\n<g id=\"edge10\" class=\"edge\">\n<title>8&#45;&gt;18</title>\n<path fill=\"none\" stroke=\"#ff0000\" d=\"M537.15,-87.21C545.86,-74.87 557.84,-57.89 567.67,-43.97\"/>\n<polygon fill=\"#ff0000\" stroke=\"#ff0000\" points=\"570.56,-45.95 573.46,-35.76 564.84,-41.91 570.56,-45.95\"/>\n<text text-anchor=\"middle\" x=\"566.79\" y=\"-57.8\" font-family=\"Times New Roman,serif\" font-size=\"14.00\">no</text>\n</g>\n<!-- 19 -->\n<g id=\"node14\" class=\"node\">\n<title>19</title>\n<ellipse fill=\"none\" stroke=\"black\" cx=\"761.29\" cy=\"-18\" rx=\"87.18\" ry=\"18\"/>\n<text text-anchor=\"middle\" x=\"761.29\" y=\"-14.3\" font-family=\"Times New Roman,serif\" font-size=\"14.00\">leaf=&#45;0.00214285729</text>\n</g>\n<!-- 9&#45;&gt;19 -->\n<g id=\"edge13\" class=\"edge\">\n<title>9&#45;&gt;19</title>\n<path fill=\"none\" stroke=\"#0000ff\" d=\"M911.97,-88.61C881.9,-74.72 837.48,-54.2 804.66,-39.03\"/>\n<polygon fill=\"#0000ff\" stroke=\"#0000ff\" points=\"805.85,-35.73 795.3,-34.71 802.91,-42.08 805.85,-35.73\"/>\n<text text-anchor=\"middle\" x=\"899.79\" y=\"-57.8\" font-family=\"Times New Roman,serif\" font-size=\"14.00\">yes, missing</text>\n</g>\n<!-- 20 -->\n<g id=\"node15\" class=\"node\">\n<title>20</title>\n<ellipse fill=\"none\" stroke=\"black\" cx=\"945.29\" cy=\"-18\" rx=\"79.09\" ry=\"18\"/>\n<text text-anchor=\"middle\" x=\"945.29\" y=\"-14.3\" font-family=\"Times New Roman,serif\" font-size=\"14.00\">leaf=0.0894632265</text>\n</g>\n<!-- 9&#45;&gt;20 -->\n<g id=\"edge14\" class=\"edge\">\n<title>9&#45;&gt;20</title>\n<path fill=\"none\" stroke=\"#ff0000\" d=\"M945.29,-86.8C945.29,-75.16 945.29,-59.55 945.29,-46.24\"/>\n<polygon fill=\"#ff0000\" stroke=\"#ff0000\" points=\"948.79,-46.18 945.29,-36.18 941.79,-46.18 948.79,-46.18\"/>\n<text text-anchor=\"middle\" x=\"952.79\" y=\"-57.8\" font-family=\"Times New Roman,serif\" font-size=\"14.00\">no</text>\n</g>\n<!-- 21 -->\n<g id=\"node16\" class=\"node\">\n<title>21</title>\n<ellipse fill=\"none\" stroke=\"black\" cx=\"1122.29\" cy=\"-18\" rx=\"79.09\" ry=\"18\"/>\n<text text-anchor=\"middle\" x=\"1122.29\" y=\"-14.3\" font-family=\"Times New Roman,serif\" font-size=\"14.00\">leaf=0.0111248456</text>\n</g>\n<!-- 10&#45;&gt;21 -->\n<g id=\"edge15\" class=\"edge\">\n<title>10&#45;&gt;21</title>\n<path fill=\"none\" stroke=\"#0000ff\" d=\"M1122.29,-86.8C1122.29,-75.16 1122.29,-59.55 1122.29,-46.24\"/>\n<polygon fill=\"#0000ff\" stroke=\"#0000ff\" points=\"1125.79,-46.18 1122.29,-36.18 1118.79,-46.18 1125.79,-46.18\"/>\n<text text-anchor=\"middle\" x=\"1156.79\" y=\"-57.8\" font-family=\"Times New Roman,serif\" font-size=\"14.00\">yes, missing</text>\n</g>\n<!-- 22 -->\n<g id=\"node17\" class=\"node\">\n<title>22</title>\n<ellipse fill=\"none\" stroke=\"black\" cx=\"1299.29\" cy=\"-18\" rx=\"79.09\" ry=\"18\"/>\n<text text-anchor=\"middle\" x=\"1299.29\" y=\"-14.3\" font-family=\"Times New Roman,serif\" font-size=\"14.00\">leaf=0.0958762914</text>\n</g>\n<!-- 10&#45;&gt;22 -->\n<g id=\"edge16\" class=\"edge\">\n<title>10&#45;&gt;22</title>\n<path fill=\"none\" stroke=\"#ff0000\" d=\"M1154.64,-88.5C1167.32,-82.42 1181.99,-75.39 1195.29,-69 1215.94,-59.09 1238.88,-48.06 1257.95,-38.89\"/>\n<polygon fill=\"#ff0000\" stroke=\"#ff0000\" points=\"1259.48,-42.04 1266.97,-34.55 1256.44,-35.73 1259.48,-42.04\"/>\n<text text-anchor=\"middle\" x=\"1231.79\" y=\"-57.8\" font-family=\"Times New Roman,serif\" font-size=\"14.00\">no</text>\n</g>\n<!-- 11 -->\n<g id=\"node20\" class=\"node\">\n<title>11</title>\n<ellipse fill=\"none\" stroke=\"black\" cx=\"1645.29\" cy=\"-105\" rx=\"74.19\" ry=\"18\"/>\n<text text-anchor=\"middle\" x=\"1645.29\" y=\"-101.3\" font-family=\"Times New Roman,serif\" font-size=\"14.00\">f141&lt;1.20500004</text>\n</g>\n<!-- 5&#45;&gt;11 -->\n<g id=\"edge19\" class=\"edge\">\n<title>5&#45;&gt;11</title>\n<path fill=\"none\" stroke=\"#0000ff\" d=\"M1710.43,-175.78C1702.86,-169.91 1694.43,-162.95 1687.29,-156 1679.37,-148.29 1671.39,-139.2 1664.55,-130.9\"/>\n<polygon fill=\"#0000ff\" stroke=\"#0000ff\" points=\"1667.13,-128.53 1658.13,-122.94 1661.68,-132.92 1667.13,-128.53\"/>\n<text text-anchor=\"middle\" x=\"1721.79\" y=\"-144.8\" font-family=\"Times New Roman,serif\" font-size=\"14.00\">yes, missing</text>\n</g>\n<!-- 12 -->\n<g id=\"node21\" class=\"node\">\n<title>12</title>\n<ellipse fill=\"none\" stroke=\"black\" cx=\"1818.29\" cy=\"-105\" rx=\"51.99\" ry=\"18\"/>\n<text text-anchor=\"middle\" x=\"1818.29\" y=\"-101.3\" font-family=\"Times New Roman,serif\" font-size=\"14.00\">f197&lt;86.75</text>\n</g>\n<!-- 5&#45;&gt;12 -->\n<g id=\"edge20\" class=\"edge\">\n<title>5&#45;&gt;12</title>\n<path fill=\"none\" stroke=\"#ff0000\" d=\"M1747.66,-175.01C1760.82,-162.15 1779.5,-143.9 1794.34,-129.4\"/>\n<polygon fill=\"#ff0000\" stroke=\"#ff0000\" points=\"1797,-131.7 1801.71,-122.21 1792.11,-126.69 1797,-131.7\"/>\n<text text-anchor=\"middle\" x=\"1787.79\" y=\"-144.8\" font-family=\"Times New Roman,serif\" font-size=\"14.00\">no</text>\n</g>\n<!-- 13 -->\n<g id=\"node26\" class=\"node\">\n<title>13</title>\n<ellipse fill=\"none\" stroke=\"black\" cx=\"2217.29\" cy=\"-105\" rx=\"51.99\" ry=\"18\"/>\n<text text-anchor=\"middle\" x=\"2217.29\" y=\"-101.3\" font-family=\"Times New Roman,serif\" font-size=\"14.00\">f185&lt;63.25</text>\n</g>\n<!-- 6&#45;&gt;13 -->\n<g id=\"edge25\" class=\"edge\">\n<title>6&#45;&gt;13</title>\n<path fill=\"none\" stroke=\"#0000ff\" d=\"M2217.29,-173.8C2217.29,-162.16 2217.29,-146.55 2217.29,-133.24\"/>\n<polygon fill=\"#0000ff\" stroke=\"#0000ff\" points=\"2220.79,-133.18 2217.29,-123.18 2213.79,-133.18 2220.79,-133.18\"/>\n<text text-anchor=\"middle\" x=\"2251.79\" y=\"-144.8\" font-family=\"Times New Roman,serif\" font-size=\"14.00\">yes, missing</text>\n</g>\n<!-- 14 -->\n<g id=\"node27\" class=\"node\">\n<title>14</title>\n<ellipse fill=\"none\" stroke=\"black\" cx=\"2494.29\" cy=\"-105\" rx=\"74.19\" ry=\"18\"/>\n<text text-anchor=\"middle\" x=\"2494.29\" y=\"-101.3\" font-family=\"Times New Roman,serif\" font-size=\"14.00\">f152&lt;4.94999981</text>\n</g>\n<!-- 6&#45;&gt;14 -->\n<g id=\"edge26\" class=\"edge\">\n<title>6&#45;&gt;14</title>\n<path fill=\"none\" stroke=\"#ff0000\" d=\"M2260.27,-177.81C2308.81,-162.92 2387.87,-138.66 2440.47,-122.52\"/>\n<polygon fill=\"#ff0000\" stroke=\"#ff0000\" points=\"2441.77,-125.78 2450.3,-119.5 2439.71,-119.09 2441.77,-125.78\"/>\n<text text-anchor=\"middle\" x=\"2380.79\" y=\"-144.8\" font-family=\"Times New Roman,serif\" font-size=\"14.00\">no</text>\n</g>\n<!-- 23 -->\n<g id=\"node22\" class=\"node\">\n<title>23</title>\n<ellipse fill=\"none\" stroke=\"black\" cx=\"1472.29\" cy=\"-18\" rx=\"75.29\" ry=\"18\"/>\n<text text-anchor=\"middle\" x=\"1472.29\" y=\"-14.3\" font-family=\"Times New Roman,serif\" font-size=\"14.00\">leaf=0.156534508</text>\n</g>\n<!-- 11&#45;&gt;23 -->\n<g id=\"edge21\" class=\"edge\">\n<title>11&#45;&gt;23</title>\n<path fill=\"none\" stroke=\"#0000ff\" d=\"M1612.89,-88.61C1600.21,-82.54 1585.55,-75.49 1572.29,-69 1552.55,-59.33 1530.7,-48.43 1512.48,-39.28\"/>\n<polygon fill=\"#0000ff\" stroke=\"#0000ff\" points=\"1513.81,-36.04 1503.31,-34.67 1510.67,-42.29 1513.81,-36.04\"/>\n<text text-anchor=\"middle\" x=\"1606.79\" y=\"-57.8\" font-family=\"Times New Roman,serif\" font-size=\"14.00\">yes, missing</text>\n</g>\n<!-- 24 -->\n<g id=\"node23\" class=\"node\">\n<title>24</title>\n<ellipse fill=\"none\" stroke=\"black\" cx=\"1645.29\" cy=\"-18\" rx=\"79.09\" ry=\"18\"/>\n<text text-anchor=\"middle\" x=\"1645.29\" y=\"-14.3\" font-family=\"Times New Roman,serif\" font-size=\"14.00\">leaf=0.0711538494</text>\n</g>\n<!-- 11&#45;&gt;24 -->\n<g id=\"edge22\" class=\"edge\">\n<title>11&#45;&gt;24</title>\n<path fill=\"none\" stroke=\"#ff0000\" d=\"M1645.29,-86.8C1645.29,-75.16 1645.29,-59.55 1645.29,-46.24\"/>\n<polygon fill=\"#ff0000\" stroke=\"#ff0000\" points=\"1648.79,-46.18 1645.29,-36.18 1641.79,-46.18 1648.79,-46.18\"/>\n<text text-anchor=\"middle\" x=\"1652.79\" y=\"-57.8\" font-family=\"Times New Roman,serif\" font-size=\"14.00\">no</text>\n</g>\n<!-- 25 -->\n<g id=\"node24\" class=\"node\">\n<title>25</title>\n<ellipse fill=\"none\" stroke=\"black\" cx=\"1818.29\" cy=\"-18\" rx=\"75.29\" ry=\"18\"/>\n<text text-anchor=\"middle\" x=\"1818.29\" y=\"-14.3\" font-family=\"Times New Roman,serif\" font-size=\"14.00\">leaf=0.288636357</text>\n</g>\n<!-- 12&#45;&gt;25 -->\n<g id=\"edge23\" class=\"edge\">\n<title>12&#45;&gt;25</title>\n<path fill=\"none\" stroke=\"#0000ff\" d=\"M1818.29,-86.8C1818.29,-75.16 1818.29,-59.55 1818.29,-46.24\"/>\n<polygon fill=\"#0000ff\" stroke=\"#0000ff\" points=\"1821.79,-46.18 1818.29,-36.18 1814.79,-46.18 1821.79,-46.18\"/>\n<text text-anchor=\"middle\" x=\"1852.79\" y=\"-57.8\" font-family=\"Times New Roman,serif\" font-size=\"14.00\">yes, missing</text>\n</g>\n<!-- 26 -->\n<g id=\"node25\" class=\"node\">\n<title>26</title>\n<ellipse fill=\"none\" stroke=\"black\" cx=\"1987.29\" cy=\"-18\" rx=\"75.29\" ry=\"18\"/>\n<text text-anchor=\"middle\" x=\"1987.29\" y=\"-14.3\" font-family=\"Times New Roman,serif\" font-size=\"14.00\">leaf=0.202614382</text>\n</g>\n<!-- 12&#45;&gt;26 -->\n<g id=\"edge24\" class=\"edge\">\n<title>12&#45;&gt;26</title>\n<path fill=\"none\" stroke=\"#ff0000\" d=\"M1847.88,-90.09C1861.2,-83.75 1877.09,-76.1 1891.29,-69 1910.15,-59.57 1930.93,-48.8 1948.31,-39.68\"/>\n<polygon fill=\"#ff0000\" stroke=\"#ff0000\" points=\"1950.37,-42.55 1957.59,-34.8 1947.11,-36.35 1950.37,-42.55\"/>\n<text text-anchor=\"middle\" x=\"1928.79\" y=\"-57.8\" font-family=\"Times New Roman,serif\" font-size=\"14.00\">no</text>\n</g>\n<!-- 27 -->\n<g id=\"node28\" class=\"node\">\n<title>27</title>\n<ellipse fill=\"none\" stroke=\"black\" cx=\"2156.29\" cy=\"-18\" rx=\"75.29\" ry=\"18\"/>\n<text text-anchor=\"middle\" x=\"2156.29\" y=\"-14.3\" font-family=\"Times New Roman,serif\" font-size=\"14.00\">leaf=0.396521747</text>\n</g>\n<!-- 13&#45;&gt;27 -->\n<g id=\"edge27\" class=\"edge\">\n<title>13&#45;&gt;27</title>\n<path fill=\"none\" stroke=\"#0000ff\" d=\"M2205.24,-87.21C2196.44,-74.95 2184.36,-58.11 2174.41,-44.24\"/>\n<polygon fill=\"#0000ff\" stroke=\"#0000ff\" points=\"2177.2,-42.13 2168.53,-36.05 2171.52,-46.21 2177.2,-42.13\"/>\n<text text-anchor=\"middle\" x=\"2225.79\" y=\"-57.8\" font-family=\"Times New Roman,serif\" font-size=\"14.00\">yes, missing</text>\n</g>\n<!-- 28 -->\n<g id=\"node29\" class=\"node\">\n<title>28</title>\n<ellipse fill=\"none\" stroke=\"black\" cx=\"2325.29\" cy=\"-18\" rx=\"75.29\" ry=\"18\"/>\n<text text-anchor=\"middle\" x=\"2325.29\" y=\"-14.3\" font-family=\"Times New Roman,serif\" font-size=\"14.00\">leaf=0.298295468</text>\n</g>\n<!-- 13&#45;&gt;28 -->\n<g id=\"edge28\" class=\"edge\">\n<title>13&#45;&gt;28</title>\n<path fill=\"none\" stroke=\"#ff0000\" d=\"M2238.51,-88.53C2246.64,-82.51 2255.96,-75.52 2264.29,-69 2275.36,-60.35 2287.35,-50.61 2297.75,-42.03\"/>\n<polygon fill=\"#ff0000\" stroke=\"#ff0000\" points=\"2300.23,-44.52 2305.7,-35.45 2295.77,-39.13 2300.23,-44.52\"/>\n<text text-anchor=\"middle\" x=\"2290.79\" y=\"-57.8\" font-family=\"Times New Roman,serif\" font-size=\"14.00\">no</text>\n</g>\n<!-- 29 -->\n<g id=\"node30\" class=\"node\">\n<title>29</title>\n<ellipse fill=\"none\" stroke=\"black\" cx=\"2494.29\" cy=\"-18\" rx=\"75.29\" ry=\"18\"/>\n<text text-anchor=\"middle\" x=\"2494.29\" y=\"-14.3\" font-family=\"Times New Roman,serif\" font-size=\"14.00\">leaf=0.214285731</text>\n</g>\n<!-- 14&#45;&gt;29 -->\n<g id=\"edge29\" class=\"edge\">\n<title>14&#45;&gt;29</title>\n<path fill=\"none\" stroke=\"#0000ff\" d=\"M2494.29,-86.8C2494.29,-75.16 2494.29,-59.55 2494.29,-46.24\"/>\n<polygon fill=\"#0000ff\" stroke=\"#0000ff\" points=\"2497.79,-46.18 2494.29,-36.18 2490.79,-46.18 2497.79,-46.18\"/>\n<text text-anchor=\"middle\" x=\"2528.79\" y=\"-57.8\" font-family=\"Times New Roman,serif\" font-size=\"14.00\">yes, missing</text>\n</g>\n<!-- 30 -->\n<g id=\"node31\" class=\"node\">\n<title>30</title>\n<ellipse fill=\"none\" stroke=\"black\" cx=\"2663.29\" cy=\"-18\" rx=\"75.29\" ry=\"18\"/>\n<text text-anchor=\"middle\" x=\"2663.29\" y=\"-14.3\" font-family=\"Times New Roman,serif\" font-size=\"14.00\">leaf=0.366666675</text>\n</g>\n<!-- 14&#45;&gt;30 -->\n<g id=\"edge30\" class=\"edge\">\n<title>14&#45;&gt;30</title>\n<path fill=\"none\" stroke=\"#ff0000\" d=\"M2526.75,-88.72C2539.44,-82.67 2554.09,-75.6 2567.29,-69 2586.15,-59.57 2606.93,-48.8 2624.31,-39.68\"/>\n<polygon fill=\"#ff0000\" stroke=\"#ff0000\" points=\"2626.37,-42.55 2633.59,-34.8 2623.11,-36.35 2626.37,-42.55\"/>\n<text text-anchor=\"middle\" x=\"2603.79\" y=\"-57.8\" font-family=\"Times New Roman,serif\" font-size=\"14.00\">no</text>\n</g>\n</g>\n</svg>\n",
      "text/plain": "<graphviz.sources.Source at 0x1a128a0e8e0>"
     },
     "execution_count": 5,
     "metadata": {},
     "output_type": "execute_result"
    }
   ],
   "source": [
    "import pandas as pd\n",
    "import numpy as np\n",
    "import xgboost as xgb\n",
    "\n",
    "dataframe = pd.read_csv('../result/data_1.csv', sep=',', encoding='utf-8')\n",
    "data = np.array(dataframe.iloc[:, 1:-5])\n",
    "label = np.array(dataframe.iloc[:, -5])\n",
    "train_data = xgb.DMatrix(data, label=label)\n",
    "params = {'max_depth': 4}\n",
    "bst = xgb.train(params, train_data, num_boost_round=1)\n",
    "dynamic = ['albumin_median',\n",
    "           'albumin_variances',\n",
    "           'albumin_changerate',\n",
    "           'ALT_median',\n",
    "           'ALT_variances',\n",
    "           'ALT_changerate',\n",
    "           'AST_median',\n",
    "           'AST_variances',\n",
    "           'AST_changerate',\n",
    "           'bands_median',\n",
    "           'bands_variances',\n",
    "           'bands_changerate',\n",
    "           'Base Excess_median',\n",
    "           'Base Excess_variances',\n",
    "           'Base Excess_changerate',\n",
    "           'basos_median',\n",
    "           'basos_variances',\n",
    "           'basos_changerate',\n",
    "           'bicarbonate_median',\n",
    "           'bicarbonate_variances',\n",
    "           'bicarbonate_changerate',\n",
    "           'bilirubin_median',\n",
    "           'bilirubin_variances',\n",
    "           'bilirubin_changerate',\n",
    "           'BUN_median',\n",
    "           'BUN_variances',\n",
    "           'BUN_changerate',\n",
    "           'calcium_median',\n",
    "           'calcium_variances',\n",
    "           'calcium_changerate',\n",
    "           'CO2_median',\n",
    "           'CO2_variances',\n",
    "           'CO2_changerate',\n",
    "           'creatinine_median',\n",
    "           'creatinine_variances',\n",
    "           'creatinine_changerate',\n",
    "           'eos_median',\n",
    "           'eos_variances',\n",
    "           'eos_changerate',\n",
    "           'FIO2_median',\n",
    "           'FIO2_variances',\n",
    "           'FIO2_changerate',\n",
    "           'glucose_median',\n",
    "           'glucose_variances',\n",
    "           'glucose_changerate',\n",
    "           'Hemoglobin_median',\n",
    "           'Hemoglobin_variances',\n",
    "           'Hemoglobin_changerate',\n",
    "           'INR_median',\n",
    "           'INR_variances',\n",
    "           'INR_changerate',\n",
    "           'ionized calcium_median',\n",
    "           'ionized calcium_variances',\n",
    "           'ionized calcium_changerate',\n",
    "           'lactate_median',\n",
    "           'lactate_variances',\n",
    "           'lactate_changerate',\n",
    "           'magnesium_median',\n",
    "           'magnesium_variances',\n",
    "           'magnesium_changerate',\n",
    "           'paCO2_median',\n",
    "           'paCO2_variances',\n",
    "           'paCO2_changerate',\n",
    "           'paO2_median',\n",
    "           'paO2_variances',\n",
    "           'paO2_changerate',\n",
    "           'P/F ratio_median',\n",
    "           'P/F ratio_variances',\n",
    "           'P/F ratio_changerate',\n",
    "           'PEEP_median',\n",
    "           'PEEP_variances',\n",
    "           'PEEP_changerate',\n",
    "           'pH_median',\n",
    "           'pH_variances',\n",
    "           'pH_changerate',\n",
    "           'platelets_median',\n",
    "           'platelets_variances',\n",
    "           'platelets_changerate',\n",
    "           'potassium_median',\n",
    "           'potassium_variances',\n",
    "           'potassium_changerate',\n",
    "           'PTT_median',\n",
    "           'PTT_variances',\n",
    "           'PTT_changerate',\n",
    "           'PIP_median',\n",
    "           'PIP_variances',\n",
    "           'PIP_changerate',\n",
    "           'sodium_median',\n",
    "           'sodium_variances',\n",
    "           'sodium_changerate',\n",
    "           'Temperature_median',\n",
    "           'Temperature_variances',\n",
    "           'Temperature_changerate',\n",
    "           'WBC_median',\n",
    "           'WBC_variances',\n",
    "           'WBC_changerate',\n",
    "           'Mean Airway Pressure_median',\n",
    "           'Mean Airway Pressure_variances',\n",
    "           'Mean Airway Pressure_changerate',\n",
    "           'Plateau Pressure_median',\n",
    "           'Plateau Pressure_variances',\n",
    "           'Plateau Pressure_changerate',\n",
    "           'SaO2_median',\n",
    "           'SaO2_variances',\n",
    "           'SaO2_changerate',\n",
    "           'SpO2_median',\n",
    "           'SpO2_variances',\n",
    "           'SpO2_changerate',\n",
    "           'TV_median',\n",
    "           'TV_variances',\n",
    "           'TV_changerate',\n",
    "           'CVP_median',\n",
    "           'CVP_variances',\n",
    "           'CVP_changerate',\n",
    "           'ETCO2_median',\n",
    "           'ETCO2_variances',\n",
    "           'ETCO2_changerate',\n",
    "           'diastolic_PAP_median',\n",
    "           'diastolic_PAP_variances',\n",
    "           'diastolic_PAP_changerate',\n",
    "           'mean_PAP_median',\n",
    "           'mean_PAP_variances',\n",
    "           'mean_PAP_changerate',\n",
    "           'systolic_PAP_median',\n",
    "           'systolic_PAP_variances',\n",
    "           'systolic_PAP_changerate',\n",
    "           'Eyes_median',\n",
    "           'Eyes_variances',\n",
    "           'Eyes_changerate',\n",
    "           'GCS_median',\n",
    "           'GCS_variances',\n",
    "           'GCS_changerate',\n",
    "           'Motor_median',\n",
    "           'Motor_variances',\n",
    "           'Motor_changerate',\n",
    "           'Verbal_median',\n",
    "           'Verbal_variances',\n",
    "           'Verbal_changerate',\n",
    "           'Heart Rate_median',\n",
    "           'Heart Rate_variances',\n",
    "           'Heart Rate_changerate',\n",
    "           'I_BP_diastolic_median',\n",
    "           'I_BP_diastolic_variances',\n",
    "           'I_BP_diastolic_changerate',\n",
    "           'I_BP_mean_median',\n",
    "           'I_BP_mean_variances',\n",
    "           'I_BP_mean_changerate',\n",
    "           'I_BP_systolic_median',\n",
    "           'I_BP_systolic_variances',\n",
    "           'I_BP_systolic_changerate',\n",
    "           'NI_BP_diastolic_median',\n",
    "           'NI_BP_diastolic_variances',\n",
    "           'NI_BP_diastolic_changerate',\n",
    "           'NI_BP_mean_median',\n",
    "           'NI_BP_mean_variances',\n",
    "           'NI_BP_mean_changerate',\n",
    "           'NI_BP_systolic_median',\n",
    "           'NI_BP_systolic_variances',\n",
    "           'NI_BP_systolic_changerate',\n",
    "           'Respiratory Rate_median',\n",
    "           'Respiratory Rate_variances',\n",
    "           'Respiratory Rate_changerate',\n",
    "           'hematocrit_median',\n",
    "           'hematocrit_variances',\n",
    "           'hematocrit_changerate']\n",
    "for importance_type in ('weight', 'gain', 'cover', 'total_gain', 'total_cover'):\n",
    "    print('%s: ' % importance_type, bst.get_score(importance_type=importance_type))\n",
    "xgb.to_graphviz(bst, num_trees=0)"
   ],
   "metadata": {
    "collapsed": false,
    "pycharm": {
     "name": "#%%\n"
    }
   }
  },
  {
   "cell_type": "code",
   "execution_count": null,
   "outputs": [],
   "source": [],
   "metadata": {
    "collapsed": false,
    "pycharm": {
     "name": "#%%\n"
    }
   }
  },
  {
   "cell_type": "code",
   "execution_count": null,
   "outputs": [],
   "source": [],
   "metadata": {
    "collapsed": false,
    "pycharm": {
     "name": "#%%\n"
    }
   }
  },
  {
   "cell_type": "code",
   "execution_count": 2,
   "outputs": [
    {
     "name": "stdout",
     "output_type": "stream",
     "text": [
      "215\n"
     ]
    }
   ],
   "source": [
    "header = ['warfarin', 'dobutamine', 'Dopamine', 'epinephrine', 'Heparin', 'Milrinone', 'Norepinephrine',\n",
    "          'phenylephrine', 'vasopressin', 'Vasopressor', 'Acute_Coronary_Syndrome_diagnosis',\n",
    "          'Acute_Myocardial_Infarction', 'Acute_Renal_Failure', 'Arrhythmia', 'Asthma_Emphysema', 'Cancer',\n",
    "          'Cardiac_Arrest', 'Cardiogenic_Shock', 'Cardiovascular_Medical', 'Cardiovascular_Other',\n",
    "          'Cerebrovascular_Accident_Stroke', 'Chest_Pain_Unknown_Origin', 'Coma', 'Coronary_Artery_Bypass_Graft',\n",
    "          'Diabetic_Ketoacidosis', 'Gastrointestinal_Bleed', 'Gastrointestinal_Obstruction', 'Neurologic',\n",
    "          'Overdose', 'Pneumonia', 'Respiratory_Medical_Other', 'Sepsis', 'Thoracotomy', 'Trauma', 'Valve_Disease',\n",
    "          'admitsource', 'age', 'gender', 'BMI', 'status', 'admission_score', 'albuminmedian', 'alpmedian',\n",
    "          'altmedian', 'ast (sgot)median', 'bandsmedian', 'base excessmedian', 'basosmedian',\n",
    "          'bicarbonatemedian', 'total bilirubinmedian', 'bunmedian', 'calciummedian', 'co2median',\n",
    "          'urinary creatininemedian', 'cvpmedian', '-eosmedian', 'etco2median', 'fio2median', 'gcs(eyes)median',\n",
    "          'gcs(intub)median', 'gcs totalmedian', 'gcs(motor)median', 'gcs(unable)median', 'gcs(verbal)median',\n",
    "          'glucosemedian', 'heart ratemedian', 'hematocritmedian', 'hemoglobinmedian', 'pt_inrmedian',\n",
    "          'invasive bp diastolicmedian', 'invasive bp meanmedian', 'invasive bp systolicmedian',\n",
    "          'ionized calcium(cialcium)median', 'lactatemedian', 'magnesiummedian', 'mean airway pressuremedian',\n",
    "          'non-invasive bp diastolicmedian', 'non-invasive bp meanmedian', 'non-invasive bp systolicmedian',\n",
    "          'paco2median', 'pao2median', 'pap_systolicmedian', 'pap_meanmedian', 'pap_diastolicmedian',\n",
    "          'p / f ratiomedian', 'pipmedian', 'peepmedian', 'phmedian', 'platelets x 1000median',\n",
    "          'plateau pressuremedian', 'potassiummedian', 'pttmedian', 'sao2median', 'sodiummedian',\n",
    "          'spo2median', 'respiratory ratemedian', 'temperaturemedian', 'tidal volume / ibwmedian',\n",
    "          'wbc x 1000median', 'albuminvariance', 'alpvariance', 'altvariance', 'ast (sgot)variance',\n",
    "          'bandsvariance', 'base excessvariance', 'basosvariance', 'bicarbonatevariance',\n",
    "          'total bilirubinvariance', 'bunvariance', 'calciumvariance', 'co2variance', 'urinary creatininevariance',\n",
    "          'cvpvariance', '-eosvariance', 'etco2variance', 'fio2variance', 'gcs(eyes)variance',\n",
    "          'gcs(intub)variance', 'gcs totalvariance', 'gcs(motor)variance', 'gcs(unable)variance',\n",
    "          'gcs(verbal)variance', 'glucosevariance', 'heart ratevariance', 'hematocritvariance',\n",
    "          'hemoglobinvariance', 'pt_inrvariance', 'invasive bp diastolicvariance', 'invasive bp meanvariance',\n",
    "          'invasive bp systolicvariance', 'ionized calcium(cialcium)variance', 'lactatevariance',\n",
    "          'magnesiumvariance', 'mean airway pressurevariance', 'non-invasive bp diastolicvariance',\n",
    "          'non-invasive bp meanvariance', 'non-invasive bp systolicvariance', 'paco2variance', 'pao2variance',\n",
    "          'pap_systolicvariance', 'pap_meanvariance', 'pap_diastolicvariance', 'p / f ratiovariance',\n",
    "          'pipvariance', 'peepvariance', 'phvariance', 'platelets x 1000variance', 'plateau pressurevariance',\n",
    "          'potassiumvariance', 'pttvariance', 'sao2variance', 'sodiumvariance', 'spo2variance',\n",
    "          'respiratory ratevariance', 'temperaturevariance', 'tidal volume / ibwvariance', 'wbc x 1000variance',\n",
    "          'albuminchange_rate', 'alpchange_rate', 'altchange_rate', 'ast (sgot)change_rate',\n",
    "          'bandschange_rate', 'base excesschange_rate', 'basoschange_rate', 'bicarbonatechange_rate',\n",
    "          'total bilirubinchange_rate', 'bunchange_rate', 'calciumchange_rate', 'co2change_rate',\n",
    "          'urinary creatininechange_rate', 'cvpchange_rate', '-eoschange_rate', 'etco2change_rate',\n",
    "          'fio2change_rate',\n",
    "          'gcs(eyes)change_rate', 'gcs(intub)change_rate', 'gcs totalchange_rate', 'gcs(motor)change_rate',\n",
    "          'gcs(unable)change_rate', 'gcs(verbal)change_rate', 'glucosechange_rate', 'heart ratechange_rate',\n",
    "          'hematocritchange_rate', 'hemoglobinchange_rate', 'pt_inrchange_rate',\n",
    "          'invasive bp diastolicchange_rate', 'invasive bp meanchange_rate', 'invasive bp systolicchange_rate',\n",
    "          'ionized calcium(cialcium)change_rate', 'lactatechange_rate', 'magnesiumchange_rate',\n",
    "          'mean airway pressurechange_rate', 'non-invasive bp diastolicchange_rate',\n",
    "          'non-invasive bp meanchange_rate', 'non-invasive bp systolicchange_rate', 'paco2change_rate',\n",
    "          'pao2change_rate', 'pap_systolicchange_rate', 'pap_meanchange_rate', 'pap_diastolicchange_rate',\n",
    "          'p / f ratiochange_rate', 'pipchange_rate', 'peepchange_rate', 'phchange_rate',\n",
    "          'platelets x 1000change_rate', 'plateau pressurechange_rate', 'potassiumchange_rate',\n",
    "          'pttchange_rate', 'sao2change_rate', 'sodiumchange_rate', 'spo2change_rate',\n",
    "          'respiratory ratechange_rate', 'temperaturechange_rate', 'tidal volume / ibwchange_rate',\n",
    "          'wbc x 1000change_rate']\n",
    "print(len(header))\n",
    "\n",
    "dict = {}\n",
    "for item in header:\n",
    "    dict[item] = 0"
   ],
   "metadata": {
    "collapsed": false,
    "pycharm": {
     "name": "#%%\n"
    }
   }
  },
  {
   "cell_type": "code",
   "execution_count": 61,
   "outputs": [
    {
     "ename": "InFailedSqlTransaction",
     "evalue": "current transaction is aborted, commands ignored until end of transaction block\n",
     "output_type": "error",
     "traceback": [
      "\u001B[1;31m---------------------------------------------------------------------------\u001B[0m",
      "\u001B[1;31mInFailedSqlTransaction\u001B[0m                    Traceback (most recent call last)",
      "Input \u001B[1;32mIn [61]\u001B[0m, in \u001B[0;36m<cell line: 2>\u001B[1;34m()\u001B[0m\n\u001B[0;32m      2\u001B[0m \u001B[38;5;28;01mfor\u001B[39;00m \u001B[38;5;28mid\u001B[39m \u001B[38;5;129;01min\u001B[39;00m unitid:\n\u001B[0;32m      3\u001B[0m     sql \u001B[38;5;241m=\u001B[39m \u001B[38;5;124m\"\u001B[39m\u001B[38;5;124mselect * \u001B[39m\u001B[38;5;124m\"\u001B[39m\\\n\u001B[0;32m      4\u001B[0m           \u001B[38;5;124m\"\u001B[39m\u001B[38;5;124m from patient\u001B[39m\u001B[38;5;124m\"\u001B[39m\\\n\u001B[0;32m      5\u001B[0m           \u001B[38;5;124m\"\u001B[39m\u001B[38;5;124m where patient.patientunitstayid=\u001B[39m\u001B[38;5;124m\"\u001B[39m \u001B[38;5;241m+\u001B[39m \u001B[38;5;28mstr\u001B[39m(\u001B[38;5;28mid\u001B[39m) \u001B[38;5;241m+\u001B[39m \\\n\u001B[0;32m      6\u001B[0m           \u001B[38;5;124m\"\u001B[39m\u001B[38;5;124m order by patient.hospitaladmittime24 asc;\u001B[39m\u001B[38;5;124m\"\u001B[39m\n\u001B[1;32m----> 7\u001B[0m     \u001B[43mcursor\u001B[49m\u001B[38;5;241;43m.\u001B[39;49m\u001B[43mexecute\u001B[49m\u001B[43m(\u001B[49m\u001B[43msql\u001B[49m\u001B[43m)\u001B[49m\n\u001B[0;32m      8\u001B[0m     \u001B[38;5;28mlist\u001B[39m \u001B[38;5;241m=\u001B[39m cursor\u001B[38;5;241m.\u001B[39mfetchone()\n\u001B[0;32m      9\u001B[0m     \u001B[38;5;28mprint\u001B[39m(\u001B[38;5;28mlist\u001B[39m)\n",
      "\u001B[1;31mInFailedSqlTransaction\u001B[0m: current transaction is aborted, commands ignored until end of transaction block\n"
     ]
    }
   ],
   "source": [],
   "metadata": {
    "collapsed": false,
    "pycharm": {
     "name": "#%%\n"
    }
   }
  },
  {
   "cell_type": "code",
   "execution_count": 52,
   "outputs": [
    {
     "name": "stdout",
     "output_type": "stream",
     "text": [
      "[0    231498\n",
      "Name: id, dtype: int64, 1    231576\n",
      "Name: id, dtype: int64, 2    231702\n",
      "Name: id, dtype: int64, 3    231920\n",
      "Name: id, dtype: int64, 4    232161\n",
      "Name: id, dtype: int64, 5    232188\n",
      "Name: id, dtype: int64, 6    232273\n",
      "Name: id, dtype: int64, 7    232274\n",
      "Name: id, dtype: int64, 8    232792\n",
      "Name: id, dtype: int64, 9    232818\n",
      "Name: id, dtype: int64]\n"
     ]
    }
   ],
   "source": [
    "import pandas as pd\n",
    "\n",
    "result = pd.read_csv('result_id.csv', sep=',')\n",
    "df = DataFrame(result)\n",
    "df_list = []\n",
    "# 数据分割\n",
    "for i in range(10):\n",
    "    df_list.append(df[i:i + 1]['id'])\n",
    "print(df_list)\n",
    "\n"
   ],
   "metadata": {
    "collapsed": false,
    "pycharm": {
     "name": "#%%\n"
    }
   }
  },
  {
   "cell_type": "code",
   "execution_count": 88,
   "outputs": [
    {
     "name": "stdout",
     "output_type": "stream",
     "text": [
      "(231702, 199222, 'Female', '44', 'Caucasian', 73, 100, 'Cardiac arrest (with or without respiratory arrest; for respiratory arrest see Respiratory System)', Decimal('167.60'), '18:12:00', -30, '', 2014, '16:50:00', 37328, 'Home', 'Alive', 'Neuro ICU', '18:42:00', 'Direct Admit', 1, 'admit', None, Decimal('96.80'), '00:55:00', 4693, 'Floor', 'Alive', '002-51684')\n",
      "(231702, 199222, 'Female', '44', 'Caucasian', 73, 100, 'Cardiac arrest (with or without respiratory arrest; for respiratory arrest see Respiratory System)', Decimal('167.60'), '18:12:00', -30, '', 2014, '16:50:00', 37328, 'Home', 'Alive', 'Neuro ICU', '18:42:00', 'Direct Admit', 1, 'admit', None, Decimal('96.80'), '00:55:00', 4693, 'Floor', 'Alive', '002-51684')\n",
      "(231702, 199222, 'Female', '44', 'Caucasian', 73, 100, 'Cardiac arrest (with or without respiratory arrest; for respiratory arrest see Respiratory System)', Decimal('167.60'), '18:12:00', -30, '', 2014, '16:50:00', 37328, 'Home', 'Alive', 'Neuro ICU', '18:42:00', 'Direct Admit', 1, 'admit', None, Decimal('96.80'), '00:55:00', 4693, 'Floor', 'Alive', '002-51684')\n",
      "(231702, 199222, 'Female', '44', 'Caucasian', 73, 100, 'Cardiac arrest (with or without respiratory arrest; for respiratory arrest see Respiratory System)', Decimal('167.60'), '18:12:00', -30, '', 2014, '16:50:00', 37328, 'Home', 'Alive', 'Neuro ICU', '18:42:00', 'Direct Admit', 1, 'admit', None, Decimal('96.80'), '00:55:00', 4693, 'Floor', 'Alive', '002-51684')\n",
      "(231702, 199222, 'Female', '44', 'Caucasian', 73, 100, 'Cardiac arrest (with or without respiratory arrest; for respiratory arrest see Respiratory System)', Decimal('167.60'), '18:12:00', -30, '', 2014, '16:50:00', 37328, 'Home', 'Alive', 'Neuro ICU', '18:42:00', 'Direct Admit', 1, 'admit', None, Decimal('96.80'), '00:55:00', 4693, 'Floor', 'Alive', '002-51684')\n",
      "(231702, 199222, 'Female', '44', 'Caucasian', 73, 100, 'Cardiac arrest (with or without respiratory arrest; for respiratory arrest see Respiratory System)', Decimal('167.60'), '18:12:00', -30, '', 2014, '16:50:00', 37328, 'Home', 'Alive', 'Neuro ICU', '18:42:00', 'Direct Admit', 1, 'admit', None, Decimal('96.80'), '00:55:00', 4693, 'Floor', 'Alive', '002-51684')\n",
      "(231702, 199222, 'Female', '44', 'Caucasian', 73, 100, 'Cardiac arrest (with or without respiratory arrest; for respiratory arrest see Respiratory System)', Decimal('167.60'), '18:12:00', -30, '', 2014, '16:50:00', 37328, 'Home', 'Alive', 'Neuro ICU', '18:42:00', 'Direct Admit', 1, 'admit', None, Decimal('96.80'), '00:55:00', 4693, 'Floor', 'Alive', '002-51684')\n",
      "(231702, 199222, 'Female', '44', 'Caucasian', 73, 100, 'Cardiac arrest (with or without respiratory arrest; for respiratory arrest see Respiratory System)', Decimal('167.60'), '18:12:00', -30, '', 2014, '16:50:00', 37328, 'Home', 'Alive', 'Neuro ICU', '18:42:00', 'Direct Admit', 1, 'admit', None, Decimal('96.80'), '00:55:00', 4693, 'Floor', 'Alive', '002-51684')\n"
     ]
    }
   ],
   "source": [
    "import psycopg2\n",
    "\n",
    "unitid = [231702, 231920, 232161, 232188, 232273, 232274, 232792, 232818]\n",
    "conn = psycopg2.connect(database=\"eicu\", user=\"postgres\", password=\"123456\", host=\"172.16.60.173\", port=\"3307\")\n",
    "cursor = conn.cursor()\n",
    "sql = \"set search_path to 'eicu_crd'\"\n",
    "cursor.execute(sql)\n",
    "for id in unitid:\n",
    "    sql_find = \" select * \"\n",
    "    \" from patient\"\n",
    "    \" where patient.patientunitstayid= \" + str(231702) +\n",
    "    \" order by patient.hospitaladmittime24 asc;\"\n",
    "\n",
    "cursor.execute(sql_find)\n",
    "list = cursor.fetchone()\n",
    "print(list)\n",
    "# cursor.close()\n",
    "# conn.close()\n",
    "# print(list)\n"
   ],
   "metadata": {
    "collapsed": false,
    "pycharm": {
     "name": "#%%\n"
    }
   }
  },
  {
   "cell_type": "code",
   "execution_count": 1,
   "outputs": [
    {
     "name": "stdout",
     "output_type": "stream",
     "text": [
      "205\n"
     ]
    }
   ],
   "source": [
    "result_header = ['id',\n",
    "                 'warfarin', 'dobutamine', 'Dopamine', 'epinephrine', 'Heparin', 'Milrinone', 'Norepinephrine',\n",
    "                 'phenylephrine', 'vasopressin', 'Vasopressor', 'Acute_Coronary_Syndrome_diagnosis',\n",
    "                 'Acute_Myocardial_Infarction', 'Acute_Renal_Failure', 'Arrhythmia',\n",
    "                 'Asthma_Emphysema', 'Cancer', 'Cardiac_Arrest', 'Cardiogenic_Shock', 'Cardiovascular_Medical',\n",
    "                 'Cardiovascular_Other', 'Cerebrovascular_Accident_Stroke', 'Chest_Pain_Unknown_Origin', 'Coma',\n",
    "                 'Coronary_Artery_Bypass_Graft', 'Diabetic_Ketoacidosis', 'Gastrointestinal_Bleed',\n",
    "                 'Gastrointestinal_Obstruction', 'Neurologic', 'Overdose', 'Pneumonia', 'Respiratory_Medical_Other',\n",
    "                 'Sepsis', 'Thoracotomy', 'Trauma', 'Valve_Disease', 'others_diease', 'admitsource', 'age', 'gender',\n",
    "                 'BMI', 'status', 'admission_score',\n",
    "                 'pH_median', 'pH_variances', 'pH_changerate', 'paO2_median', 'paO2_variances', 'paO2_changerate',\n",
    "                 'paCO2_median', 'paCO2_variances', 'paCO2_changerate', 'Base Excess_median', 'Base Excess_variances',\n",
    "                 'Base Excess_changerate',\n",
    "                 'bicarbonate_median', 'bicarbonate_median', 'bicarbonate_variances', 'bicarbonate_changerate',\n",
    "                 'lactate_median', 'lactate_variances', 'lactate_changerate', 'glucose_median', 'glucose_variances',\n",
    "                 'glucose_changerate', 'WBC x 1000_median', 'WBC x 1000_variances', 'WBC x 1000_changerate',\n",
    "                 '-basos_median', '-basos_variances', '-basos_changerate', '-eos_median', '-eos_variances',\n",
    "                 '-eos_variances', '-bands_median', '-bands_variances', '-bands_changerate', 'Hemoglobin_median',\n",
    "                 'Hemoglobin_variances', 'Hemoglobin_changerate', 'hematocrit_median', 'hematocrit_variances',\n",
    "                 'hematocrit_changerate''platelets x 1000_median', 'platelets x 1000_variances',\n",
    "                 'platelets x 1000_changerate', 'AST (SGOT)_median', 'AST (SGOT)_variances', 'AST (SGOT)_changerate',\n",
    "                 'ALT (SGPT)_median', 'ALT (SGPT)_variances', 'ALT (SGPT)_changerate', 'total bilirubin_median',\n",
    "                 'total bilirubin_variances', 'total bilirubin_changerate',\n",
    "                 'albumin_median', 'albumin_variances', 'albumin_changerate', 'cvp_median', 'cvp_variances',\n",
    "                 'cvp_changerate', 'BUN_median', 'BUN_variances', 'BUN_changerate', 'creatinine_median',\n",
    "                 'creatinine_variances', 'creatinine_changerate', 'PT - INR_median', 'PT - INR_variances',\n",
    "                 'PT - INR_changerate', 'PTT_median', 'PTT_variances', 'PTT_changerate', 'FiO2_median',\n",
    "                 'FiO2_variances', 'FiO2_changerate', 'PEEP_median', 'PEEP_variances', 'PEEP_changerate', 'PIP_median',\n",
    "                 'PIP_variances', 'PIP_changerate',\n",
    "                 'Plateau Pressure_median', 'Plateau Pressure_variances', 'Plateau Pressure_changerate',\n",
    "                 'Mean Airway Pressure_median', 'Mean Airway Pressure_variances', 'Mean Airway Pressure_changerate',\n",
    "                 'TV/kg IBW_median', 'TV/kg IBW_variances', 'TV/kg IBW_changerate', 'Respiratory Rate_median',\n",
    "                 'Respiratory Rate_variances', 'Respiratory Rate_changerate', 'P/F ratio_median', 'P/F ratio_variances',\n",
    "                 'P/F ratio_changerate', 'GCS Total_changerate', 'GCS Total_median', 'GCS Total_variances',\n",
    "                 'Eyes_median', 'Eyes_variances', 'Eyes_changerate', 'Motor_median', 'Motor_variances',\n",
    "                 'Motor_changerate', 'Verbal_median', 'Verbal_variances', 'Verbal_changerate', 'calcium_median',\n",
    "                 'calcium_variances', 'calcium_changerate', 'ionized calcium_median', 'ionized calcium_variances',\n",
    "                 'ionized calcium_changerate', 'magnesium_median', 'magnesium_variances', 'magnesium_changerate',\n",
    "                 'potassium_median', 'potassium_variances', 'potassium_changerate', 'sodium_median', 'sodium_variances',\n",
    "                 'sodium_changerate', 'Total CO2_median', 'Total CO2_variances', 'Total CO2_changerate', 'etCO2_median',\n",
    "                 'etCO2_variances', 'etCO2_changerate', 'SaO2_median', 'SaO2_variances', 'SaO2_changerate',\n",
    "                 'Temperature_median', 'Temperature_variances', 'Temperature_changerate', 'Heart Rate_median',\n",
    "                 'Heart Rate_variances', 'Heart Rate_changerate', 'padiastolic_median', 'padiastolic_variances',\n",
    "                 'padiastolic_changerate', 'pamean_median', 'pamean_variances', 'pamean_changerate',\n",
    "                 'pasystolic_median', 'pasystolic_variances', 'pasystolic_changerate', 'Invasive BP Diastolic_median',\n",
    "                 'Invasive BP Diastolic_variances', 'Invasive BP Diastolic_changerate', 'Invasive BP Mean_median',\n",
    "                 'Invasive BP Mean_variances', 'Invasive BP Mean_changerate', 'Invasive BP Systolic_median',\n",
    "                 'Invasive BP Systolic_variances', 'Invasive BP Systolic_changerate',\n",
    "                 'Non-Invasive BP Diastolic_median', 'Non-Invasive BP Diastolic_variances',\n",
    "                 'Non-Invasive BP Diastolic_changerate', 'Non-Invasive BP Mean_median',\n",
    "                 'Non-Invasive BP Mean_variances', 'Non-Invasive BP Mean_changerate', 'Non-Invasive BP Systolic_median',\n",
    "                 'Non-Invasive BP Systolic_variances', 'Non-Invasive BP Systolic_changerate']\n",
    "print((len(result_header)))"
   ],
   "metadata": {
    "collapsed": false,
    "pycharm": {
     "name": "#%%\n"
    }
   }
  },
  {
   "cell_type": "code",
   "execution_count": 2,
   "outputs": [
    {
     "name": "stdout",
     "output_type": "stream",
     "text": [
      "206\n"
     ]
    }
   ],
   "source": [
    "result_header = ['id',\n",
    "                 'warfarin', 'dobutamine', 'Dopamine', 'epinephrine', 'Heparin', 'Milrinone', 'Norepinephrine',\n",
    "                 'phenylephrine', 'vasopressin', 'Vasopressor', 'Acute_Coronary_Syndrome_diagnosis',\n",
    "                 'Acute_Myocardial_Infarction', 'Acute_Renal_Failure', 'Arrhythmia',\n",
    "                 'Asthma_Emphysema', 'Cancer', 'Cardiac_Arrest', 'Cardiogenic_Shock', 'Cardiovascular_Medical',\n",
    "                 'Cardiovascular_Other', 'Cerebrovascular_Accident_Stroke', 'Chest_Pain_Unknown_Origin', 'Coma',\n",
    "                 'Coronary_Artery_Bypass_Graft', 'Diabetic_Ketoacidosis', 'Gastrointestinal_Bleed',\n",
    "                 'Gastrointestinal_Obstruction', 'Neurologic', 'Overdose', 'Pneumonia', 'Respiratory_Medical_Other',\n",
    "                 'Sepsis', 'Thoracotomy', 'Trauma', 'Valve_Disease', 'others_diease', 'admitsource', 'age', 'gender',\n",
    "                 'BMI', 'status', 'admission_score',\n",
    "                 'pH_median', 'pH_variances', 'pH_changerate', 'paO2_median', 'paO2_variances', 'paO2_changerate',\n",
    "                 'paCO2_median', 'paCO2_variances', 'paCO2_changerate', 'Base Excess_median', 'Base Excess_variances',\n",
    "                 'Base Excess_changerate',\n",
    "                 'bicarbonate_median', 'bicarbonate_median', 'bicarbonate_variances', 'bicarbonate_changerate',\n",
    "                 'lactate_median', 'lactate_variances', 'lactate_changerate', 'glucose_median', 'glucose_variances',\n",
    "                 'glucose_changerate', 'WBC x 1000_median', 'WBC x 1000_variances', 'WBC x 1000_changerate',\n",
    "                 '-basos_median', '-basos_variances', '-basos_changerate', '-eos_median', '-eos_variances',\n",
    "                 '-eos_variances', '-bands_median', '-bands_variances', '-bands_changerate', 'Hemoglobin_median',\n",
    "                 'Hemoglobin_variances', 'Hemoglobin_changerate', 'hematocrit_median', 'hematocrit_variances',\n",
    "                 'hematocrit_changerate', 'platelets x 1000_median', 'platelets x 1000_variances',\n",
    "                 'platelets x 1000_changerate', 'AST (SGOT)_median', 'AST (SGOT)_variances', 'AST (SGOT)_changerate',\n",
    "                 'ALT (SGPT)_median', 'ALT (SGPT)_variances', 'ALT (SGPT)_changerate', 'total bilirubin_median',\n",
    "                 'total bilirubin_variances', 'total bilirubin_changerate',\n",
    "                 'albumin_median', 'albumin_variances', 'albumin_changerate', 'cvp_median', 'cvp_variances',\n",
    "                 'cvp_changerate', 'BUN_median', 'BUN_variances', 'BUN_changerate', 'creatinine_median',\n",
    "                 'creatinine_variances', 'creatinine_changerate', 'PT - INR_median', 'PT - INR_variances',\n",
    "                 'PT - INR_changerate', 'PTT_median', 'PTT_variances', 'PTT_changerate', 'FiO2_median',\n",
    "                 'FiO2_variances', 'FiO2_changerate', 'PEEP_median', 'PEEP_variances', 'PEEP_changerate', 'PIP_median',\n",
    "                 'PIP_variances', 'PIP_changerate',\n",
    "                 'Plateau Pressure_median', 'Plateau Pressure_variances', 'Plateau Pressure_changerate',\n",
    "                 'Mean Airway Pressure_median', 'Mean Airway Pressure_variances', 'Mean Airway Pressure_changerate',\n",
    "                 'TV/kg IBW_median', 'TV/kg IBW_variances', 'TV/kg IBW_changerate', 'Respiratory Rate_median',\n",
    "                 'Respiratory Rate_variances', 'Respiratory Rate_changerate', 'P/F ratio_median', 'P/F ratio_variances',\n",
    "                 'P/F ratio_changerate', 'GCS Total_changerate', 'GCS Total_median', 'GCS Total_variances',\n",
    "                 'Eyes_median', 'Eyes_variances', 'Eyes_changerate', 'Motor_median', 'Motor_variances',\n",
    "                 'Motor_changerate', 'Verbal_median', 'Verbal_variances', 'Verbal_changerate', 'calcium_median',\n",
    "                 'calcium_variances', 'calcium_changerate', 'ionized calcium_median', 'ionized calcium_variances',\n",
    "                 'ionized calcium_changerate', 'magnesium_median', 'magnesium_variances', 'magnesium_changerate',\n",
    "                 'potassium_median', 'potassium_variances', 'potassium_changerate', 'sodium_median', 'sodium_variances',\n",
    "                 'sodium_changerate', 'Total CO2_median', 'Total CO2_variances', 'Total CO2_changerate', 'etCO2_median',\n",
    "                 'etCO2_variances', 'etCO2_changerate', 'SaO2_median', 'SaO2_variances', 'SaO2_changerate',\n",
    "                 'Temperature_median', 'Temperature_variances', 'Temperature_changerate', 'Heart Rate_median',\n",
    "                 'Heart Rate_variances', 'Heart Rate_changerate', 'padiastolic_median', 'padiastolic_variances',\n",
    "                 'padiastolic_changerate', 'pamean_median', 'pamean_variances', 'pamean_changerate',\n",
    "                 'pasystolic_median', 'pasystolic_variances', 'pasystolic_changerate', 'Invasive BP Diastolic_median',\n",
    "                 'Invasive BP Diastolic_variances', 'Invasive BP Diastolic_changerate', 'Invasive BP Mean_median',\n",
    "                 'Invasive BP Mean_variances', 'Invasive BP Mean_changerate', 'Invasive BP Systolic_median',\n",
    "                 'Invasive BP Systolic_variances', 'Invasive BP Systolic_changerate',\n",
    "                 'Non-Invasive BP Diastolic_median', 'Non-Invasive BP Diastolic_variances',\n",
    "                 'Non-Invasive BP Diastolic_changerate', 'Non-Invasive BP Mean_median',\n",
    "                 'Non-Invasive BP Mean_variances', 'Non-Invasive BP Mean_changerate', 'Non-Invasive BP Systolic_median',\n",
    "                 'Non-Invasive BP Systolic_variances', 'Non-Invasive BP Systolic_changerate']\n",
    "print(len(result_header))"
   ],
   "metadata": {
    "collapsed": false,
    "pycharm": {
     "name": "#%%\n"
    }
   }
  },
  {
   "cell_type": "code",
   "execution_count": 3,
   "outputs": [
    {
     "name": "stdout",
     "output_type": "stream",
     "text": [
      "206\n"
     ]
    }
   ],
   "source": [
    "\n",
    "print(str(len(result_header)))"
   ],
   "metadata": {
    "collapsed": false,
    "pycharm": {
     "name": "#%%\n"
    }
   }
  },
  {
   "cell_type": "code",
   "execution_count": 2,
   "outputs": [
    {
     "name": "stdout",
     "output_type": "stream",
     "text": [
      "53\n"
     ]
    }
   ],
   "source": [
    "dynamic_list = ['albumin', 'ALT (SGPT)', 'AST (SGOT)', '-bands', 'Base Excess', '-basos', 'bicarbonate',\n",
    "                'total bilirubin', 'BUN', 'calcium', 'Total CO2', 'creatinine', '-eos', 'FiO2', 'glucose',\n",
    "                'Hemoglobin', 'PT - INR', 'ionized calcium', 'lactate', 'magnesium', 'paCO2', 'paO2', 'P/F ratio',\n",
    "                'PEEP', 'pH', 'platelets x 1000', 'potassium', 'PTT', 'sodium', 'Temperature', 'WBC x 1000',\n",
    "                'Mean Airway Pressure', 'Plateau Pressure', 'SaO2', 'TV/kg IBW', 'cvp', 'etCO2',\n",
    "                'padiastolic', 'pamean', 'pasystolic', 'Eyes', 'GCS Total', 'Motor',\n",
    "                'Verbal', 'Heart Rate', 'Invasive BP Diastolic', 'Invasive BP Mean',\n",
    "                'Invasive BP Systolic', 'Non-Invasive BP Diastolic', 'Non-Invasive BP Mean',\n",
    "                'Non-Invasive BP Systolic', 'Respiratory Rate', 'hematocrit']\n",
    "print(len(dynamic_list))"
   ],
   "metadata": {
    "collapsed": false,
    "pycharm": {
     "name": "#%%\n"
    }
   }
  },
  {
   "cell_type": "code",
   "execution_count": 9,
   "outputs": [
    {
     "name": "stdout",
     "output_type": "stream",
     "text": [
      "42\n"
     ]
    }
   ],
   "source": [
    "static_list = ['warfarin', 'dobutamine', 'Dopamine', 'epinephrine', 'Heparin', 'Milrinone', 'Norepinephrine',\n",
    "               'phenylephrine',\n",
    "               'vasopressin', 'Vasopressor', 'Acute_Coronary_Syndrome_diagnosis', 'Acute_Myocardial_Infarction',\n",
    "               'Acute_Renal_Failure', 'Arrhythmia', 'Asthma_Emphysema', 'Cancer', 'Cardiac_Arrest',\n",
    "               'Cardiogenic_Shock',\n",
    "               'Cardiovascular_Medical', 'Cardiovascular_Other', 'Cerebrovascular_Accident_Stroke',\n",
    "               'Chest_Pain_Unknown_Origin',\n",
    "               'Coma', 'Coronary_Artery_Bypass_Graft', 'Diabetic_Ketoacidosis', 'Gastrointestinal_Bleed',\n",
    "               'Gastrointestinal_Obstruction',\n",
    "               'Neurologic', 'Overdose', 'Pneumonia', 'Respiratory_Medical_Other', 'Sepsis', 'Thoracotomy', 'Trauma',\n",
    "               'Valve_Disease', 'others_diease', 'admitsource', 'age', 'gender', 'BMI', 'status', 'admission_score']\n",
    "print(len(static_list))"
   ],
   "metadata": {
    "collapsed": false,
    "pycharm": {
     "name": "#%%\n"
    }
   }
  },
  {
   "cell_type": "code",
   "execution_count": 10,
   "outputs": [
    {
     "name": "stdout",
     "output_type": "stream",
     "text": [
      "['id', 'time', 'warfarin', 'dobutamine', 'Dopamine', 'epinephrine', 'Heparin', 'Milrinone', 'Norepinephrine', 'phenylephrine', 'vasopressin', 'Vasopressor', 'Acute_Coronary_Syndrome_diagnosis', 'Acute_Myocardial_Infarction', 'Acute_Renal_Failure', 'Arrhythmia', 'Asthma_Emphysema', 'Cancer', 'Cardiac_Arrest', 'Cardiogenic_Shock', 'Cardiovascular_Medical', 'Cardiovascular_Other', 'Cerebrovascular_Accident_Stroke', 'Chest_Pain_Unknown_Origin', 'Coma', 'Coronary_Artery_Bypass_Graft', 'Diabetic_Ketoacidosis', 'Gastrointestinal_Bleed', 'Gastrointestinal_Obstruction', 'Neurologic', 'Overdose', 'Pneumonia', 'Respiratory_Medical_Other', 'Sepsis', 'Thoracotomy', 'Trauma', 'Valve_Disease', 'others_diease', 'admitsource', 'age', 'gender', 'BMI', 'status', 'admission_score', 'albumin', 'ALT (SGPT)', 'AST (SGOT)', '-bands', 'Base Excess', '-basos', 'bicarbonate', 'total bilirubin', 'BUN', 'calcium', 'Total CO2', 'creatinine', '-eos', 'FiO2', 'glucose', 'Hemoglobin', 'PT - INR', 'ionized calcium', 'lactate', 'magnesium', 'paCO2', 'paO2', 'P/F ratio', 'PEEP', 'pH', 'platelets x 1000', 'potassium', 'PTT', 'sodium', 'Temperature', 'WBC x 1000', 'Mean Airway Pressure', 'Plateau Pressure', 'SaO2', 'TV/kg IBW', 'cvp', 'etCO2', 'padiastolic', 'pamean', 'pasystolic', 'Eyes', 'GCS Total', 'Motor', 'Verbal', 'Heart Rate', 'Invasive BP Diastolic', 'Invasive BP Mean', 'Invasive BP Systolic', 'Non-Invasive BP Diastolic', 'Non-Invasive BP Mean', 'Non-Invasive BP Systolic', 'Respiratory Rate', 'hematocrit', 'status']\n",
      "98\n"
     ]
    }
   ],
   "source": [
    "time_series_header = ['id', 'time']\n",
    "time_series_header += static_list\n",
    "time_series_header += dynamic_list\n",
    "time_series_header.append('status')\n",
    "print(time_series_header)\n",
    "print(len(time_series_header))"
   ],
   "metadata": {
    "collapsed": false,
    "pycharm": {
     "name": "#%%\n"
    }
   }
  },
  {
   "cell_type": "code",
   "execution_count": null,
   "outputs": [],
   "source": [],
   "metadata": {
    "collapsed": false,
    "pycharm": {
     "name": "#%%\n"
    }
   }
  },
  {
   "cell_type": "code",
   "execution_count": 19,
   "outputs": [
    {
     "ename": "ValueError",
     "evalue": "multiclass format is not supported",
     "output_type": "error",
     "traceback": [
      "\u001B[1;31m---------------------------------------------------------------------------\u001B[0m",
      "\u001B[1;31mValueError\u001B[0m                                Traceback (most recent call last)",
      "Input \u001B[1;32mIn [19]\u001B[0m, in \u001B[0;36m<cell line: 15>\u001B[1;34m()\u001B[0m\n\u001B[0;32m     13\u001B[0m \u001B[38;5;66;03m# print(model.feature_importances_)\u001B[39;00m\n\u001B[0;32m     14\u001B[0m y_train_predict \u001B[38;5;241m=\u001B[39m model\u001B[38;5;241m.\u001B[39mpredict_proba(x_train)\n\u001B[1;32m---> 15\u001B[0m fpr, tpr, threshold \u001B[38;5;241m=\u001B[39m \u001B[43mroc_curve\u001B[49m\u001B[43m(\u001B[49m\u001B[43my_train\u001B[49m\u001B[43m,\u001B[49m\u001B[43m \u001B[49m\u001B[43my_train_predict\u001B[49m\u001B[43m[\u001B[49m\u001B[43m:\u001B[49m\u001B[43m,\u001B[49m\u001B[43m \u001B[49m\u001B[38;5;241;43m1\u001B[39;49m\u001B[43m]\u001B[49m\u001B[43m)\u001B[49m\n\u001B[0;32m     16\u001B[0m y_train_auc \u001B[38;5;241m=\u001B[39m auc(fpr, tpr)\n\u001B[0;32m     17\u001B[0m \u001B[38;5;28mprint\u001B[39m(y_train_auc)\n",
      "File \u001B[1;32mc:\\users\\fei\\appdata\\local\\programs\\python\\python38\\lib\\site-packages\\sklearn\\utils\\validation.py:72\u001B[0m, in \u001B[0;36m_deprecate_positional_args.<locals>.inner_f\u001B[1;34m(*args, **kwargs)\u001B[0m\n\u001B[0;32m     67\u001B[0m     warnings\u001B[38;5;241m.\u001B[39mwarn(\u001B[38;5;124m\"\u001B[39m\u001B[38;5;124mPass \u001B[39m\u001B[38;5;132;01m{}\u001B[39;00m\u001B[38;5;124m as keyword args. From version 0.25 \u001B[39m\u001B[38;5;124m\"\u001B[39m\n\u001B[0;32m     68\u001B[0m                   \u001B[38;5;124m\"\u001B[39m\u001B[38;5;124mpassing these as positional arguments will \u001B[39m\u001B[38;5;124m\"\u001B[39m\n\u001B[0;32m     69\u001B[0m                   \u001B[38;5;124m\"\u001B[39m\u001B[38;5;124mresult in an error\u001B[39m\u001B[38;5;124m\"\u001B[39m\u001B[38;5;241m.\u001B[39mformat(\u001B[38;5;124m\"\u001B[39m\u001B[38;5;124m, \u001B[39m\u001B[38;5;124m\"\u001B[39m\u001B[38;5;241m.\u001B[39mjoin(args_msg)),\n\u001B[0;32m     70\u001B[0m                   \u001B[38;5;167;01mFutureWarning\u001B[39;00m)\n\u001B[0;32m     71\u001B[0m kwargs\u001B[38;5;241m.\u001B[39mupdate({k: arg \u001B[38;5;28;01mfor\u001B[39;00m k, arg \u001B[38;5;129;01min\u001B[39;00m \u001B[38;5;28mzip\u001B[39m(sig\u001B[38;5;241m.\u001B[39mparameters, args)})\n\u001B[1;32m---> 72\u001B[0m \u001B[38;5;28;01mreturn\u001B[39;00m \u001B[43mf\u001B[49m\u001B[43m(\u001B[49m\u001B[38;5;241;43m*\u001B[39;49m\u001B[38;5;241;43m*\u001B[39;49m\u001B[43mkwargs\u001B[49m\u001B[43m)\u001B[49m\n",
      "File \u001B[1;32mc:\\users\\fei\\appdata\\local\\programs\\python\\python38\\lib\\site-packages\\sklearn\\metrics\\_ranking.py:775\u001B[0m, in \u001B[0;36mroc_curve\u001B[1;34m(y_true, y_score, pos_label, sample_weight, drop_intermediate)\u001B[0m\n\u001B[0;32m    690\u001B[0m \u001B[38;5;129m@_deprecate_positional_args\u001B[39m\n\u001B[0;32m    691\u001B[0m \u001B[38;5;28;01mdef\u001B[39;00m \u001B[38;5;21mroc_curve\u001B[39m(y_true, y_score, \u001B[38;5;241m*\u001B[39m, pos_label\u001B[38;5;241m=\u001B[39m\u001B[38;5;28;01mNone\u001B[39;00m, sample_weight\u001B[38;5;241m=\u001B[39m\u001B[38;5;28;01mNone\u001B[39;00m,\n\u001B[0;32m    692\u001B[0m               drop_intermediate\u001B[38;5;241m=\u001B[39m\u001B[38;5;28;01mTrue\u001B[39;00m):\n\u001B[0;32m    693\u001B[0m     \u001B[38;5;124;03m\"\"\"Compute Receiver operating characteristic (ROC)\u001B[39;00m\n\u001B[0;32m    694\u001B[0m \n\u001B[0;32m    695\u001B[0m \u001B[38;5;124;03m    Note: this implementation is restricted to the binary classification task.\u001B[39;00m\n\u001B[1;32m   (...)\u001B[0m\n\u001B[0;32m    773\u001B[0m \n\u001B[0;32m    774\u001B[0m \u001B[38;5;124;03m    \"\"\"\u001B[39;00m\n\u001B[1;32m--> 775\u001B[0m     fps, tps, thresholds \u001B[38;5;241m=\u001B[39m \u001B[43m_binary_clf_curve\u001B[49m\u001B[43m(\u001B[49m\n\u001B[0;32m    776\u001B[0m \u001B[43m        \u001B[49m\u001B[43my_true\u001B[49m\u001B[43m,\u001B[49m\u001B[43m \u001B[49m\u001B[43my_score\u001B[49m\u001B[43m,\u001B[49m\u001B[43m \u001B[49m\u001B[43mpos_label\u001B[49m\u001B[38;5;241;43m=\u001B[39;49m\u001B[43mpos_label\u001B[49m\u001B[43m,\u001B[49m\u001B[43m \u001B[49m\u001B[43msample_weight\u001B[49m\u001B[38;5;241;43m=\u001B[39;49m\u001B[43msample_weight\u001B[49m\u001B[43m)\u001B[49m\n\u001B[0;32m    778\u001B[0m     \u001B[38;5;66;03m# Attempt to drop thresholds corresponding to points in between and\u001B[39;00m\n\u001B[0;32m    779\u001B[0m     \u001B[38;5;66;03m# collinear with other points. These are always suboptimal and do not\u001B[39;00m\n\u001B[0;32m    780\u001B[0m     \u001B[38;5;66;03m# appear on a plotted ROC curve (and thus do not affect the AUC).\u001B[39;00m\n\u001B[1;32m   (...)\u001B[0m\n\u001B[0;32m    785\u001B[0m     \u001B[38;5;66;03m# but does not drop more complicated cases like fps = [1, 3, 7],\u001B[39;00m\n\u001B[0;32m    786\u001B[0m     \u001B[38;5;66;03m# tps = [1, 2, 4]; there is no harm in keeping too many thresholds.\u001B[39;00m\n\u001B[0;32m    787\u001B[0m     \u001B[38;5;28;01mif\u001B[39;00m drop_intermediate \u001B[38;5;129;01mand\u001B[39;00m \u001B[38;5;28mlen\u001B[39m(fps) \u001B[38;5;241m>\u001B[39m \u001B[38;5;241m2\u001B[39m:\n",
      "File \u001B[1;32mc:\\users\\fei\\appdata\\local\\programs\\python\\python38\\lib\\site-packages\\sklearn\\metrics\\_ranking.py:539\u001B[0m, in \u001B[0;36m_binary_clf_curve\u001B[1;34m(y_true, y_score, pos_label, sample_weight)\u001B[0m\n\u001B[0;32m    536\u001B[0m y_type \u001B[38;5;241m=\u001B[39m type_of_target(y_true)\n\u001B[0;32m    537\u001B[0m \u001B[38;5;28;01mif\u001B[39;00m \u001B[38;5;129;01mnot\u001B[39;00m (y_type \u001B[38;5;241m==\u001B[39m \u001B[38;5;124m\"\u001B[39m\u001B[38;5;124mbinary\u001B[39m\u001B[38;5;124m\"\u001B[39m \u001B[38;5;129;01mor\u001B[39;00m\n\u001B[0;32m    538\u001B[0m         (y_type \u001B[38;5;241m==\u001B[39m \u001B[38;5;124m\"\u001B[39m\u001B[38;5;124mmulticlass\u001B[39m\u001B[38;5;124m\"\u001B[39m \u001B[38;5;129;01mand\u001B[39;00m pos_label \u001B[38;5;129;01mis\u001B[39;00m \u001B[38;5;129;01mnot\u001B[39;00m \u001B[38;5;28;01mNone\u001B[39;00m)):\n\u001B[1;32m--> 539\u001B[0m     \u001B[38;5;28;01mraise\u001B[39;00m \u001B[38;5;167;01mValueError\u001B[39;00m(\u001B[38;5;124m\"\u001B[39m\u001B[38;5;132;01m{0}\u001B[39;00m\u001B[38;5;124m format is not supported\u001B[39m\u001B[38;5;124m\"\u001B[39m\u001B[38;5;241m.\u001B[39mformat(y_type))\n\u001B[0;32m    541\u001B[0m check_consistent_length(y_true, y_score, sample_weight)\n\u001B[0;32m    542\u001B[0m y_true \u001B[38;5;241m=\u001B[39m column_or_1d(y_true)\n",
      "\u001B[1;31mValueError\u001B[0m: multiclass format is not supported"
     ]
    }
   ],
   "source": [
    "from feature_dimensionality_reduction import param\n",
    "from sklearn.metrics import roc_curve, auc\n",
    "from classification.classify_parameter import XGB\n",
    "from sklearn.model_selection import train_test_split, GridSearchCV\n",
    "\n",
    "dataframe = pd.read_csv('../result/data_1.csv', sep=',', encoding='utf-8')\n",
    "data = dataframe.iloc[:, 1:-5]\n",
    "label = dataframe.iloc[:, -5]\n",
    "x_train, x_test, y_train, y_test = train_test_split(data, label, test_size=0.2)\n",
    "x_train, x_valid, y_train, y_valid = train_test_split(x_train, y_train, test_size=0.25)\n",
    "research = GridSearchCV(XGB, param_grid=param, cv=5, refit=True)\n",
    "research.fit(x_train, y_train)\n",
    "model = research.best_estimator_\n",
    "# print(model.feature_importances_)\n",
    "y_train_predict = model.predict_proba(x_train)\n",
    "fpr, tpr, threshold = roc_curve(y_train, y_train_predict[:, 1])\n",
    "y_train_auc = auc(fpr, tpr)\n",
    "print(y_train_auc)\n",
    "y_test_predict = model.predict_proba(x_test)\n",
    "fpr, tpr, threshold = roc_curve(y_test, y_test_predict[:, 1])\n",
    "y_test_auc = auc(fpr, tpr)\n",
    "print(y_train_auc)\n"
   ],
   "metadata": {
    "collapsed": false,
    "pycharm": {
     "name": "#%%\n"
    }
   }
  },
  {
   "cell_type": "code",
   "execution_count": 1,
   "outputs": [
    {
     "name": "stdout",
     "output_type": "stream",
     "text": [
      "211\n"
     ]
    }
   ],
   "source": [
    "result_header = ['id',\n",
    "                 'warfarin', 'dobutamine', 'dopamine', 'epinephrine', 'heparin', 'milrinone', 'norepinephrine',\n",
    "                 'phenylephrine', 'vasopressin', 'vasopressor', 'ACSD', 'ARF', 'Arrhythmia', 'Asthma_Emphysema',\n",
    "                 'Cancer', 'Cardiac_Arrest', 'Cardiogenic_Shock', 'CardM', 'CardO', 'CAS', 'CPUO', 'Coma', 'CABG',\n",
    "                 'Diabetic_Ketoacidosis', 'GI_Bleed', 'GI_Obstruction', 'Neurologic', 'Overdose', 'Pneumonia',\n",
    "                 'RespiMO', 'Sepsis', 'Thoracotomy', 'Trauma', 'Valve_Disease', 'others_diease', 'admitsource', 'age',\n",
    "                 'gender', 'BMI', 'admission_score', 'pH_median', 'pH_variances', 'pH_changerate', 'paO2_median',\n",
    "                 'paO2_variances', 'paO2_changerate', 'paCO2_median', 'paCO2_variances', 'paCO2_changerate',\n",
    "                 'Base Excess_median', 'Base Excess_variances', 'Base Excess_changerate', 'bicarbonate_median',\n",
    "                 'bicarbonate_variances', 'bicarbonate_changerate',\n",
    "                 'lactate_median', 'lactate_variances', 'lactate_changerate', 'glucose_median', 'glucose_variances',\n",
    "                 'glucose_changerate', 'WBC_median', 'WBC_variances', 'WBC_changerate',\n",
    "                 '-basos_median', '-basos_variances', '-basos_changerate', '-eos_median', '-eos_variances',\n",
    "                 '-eos_changerate', '-bands_median', '-bands_variances', '-bands_changerate', 'Hemoglobin_median',\n",
    "                 'Hemoglobin_variances', 'Hemoglobin_changerate', 'hematocrit_median', 'hematocrit_variances',\n",
    "                 'hematocrit_changerate', 'platelets_median', 'platelets_variances',\n",
    "                 'platelets_changerate', 'AST_median', 'AST_variances', 'AST_changerate',\n",
    "                 'ALT_median', 'ALT_variances', 'ALT_changerate', 'bilirubin_median',\n",
    "                 'bilirubin_variances', 'bilirubin_changerate',\n",
    "                 'albumin_median', 'albumin_variances', 'albumin_changerate', 'CVP_median', 'CVP_variances',\n",
    "                 'CVP_changerate', 'BUN_median', 'BUN_variances', 'BUN_changerate', 'creatinine_median',\n",
    "                 'creatinine_variances', 'creatinine_changerate', 'INR_median', 'INR_variances',\n",
    "                 'INR_changerate', 'PTT_median', 'PTT_variances', 'PTT_changerate', 'PIP_median', 'PIP_variances',\n",
    "                 'PIP_changerate', 'FIO2_median',\n",
    "                 'FIO2_variances', 'FIO2_changerate', 'PEEP_median', 'PEEP_variances', 'PEEP_changerate',\n",
    "                 'Plateau Pressure_median', 'Plateau Pressure_variances', 'Plateau Pressure_changerate',\n",
    "                 'Mean Airway Pressure_median', 'Mean Airway Pressure_variances', 'Mean Airway Pressure_changerate',\n",
    "                 'TV_median', 'TV_variances', 'TV_changerate', 'Respiratory Rate_median',\n",
    "                 'Respiratory Rate_variances', 'Respiratory Rate_changerate', 'P/F ratio_median', 'P/F ratio_variances',\n",
    "                 'P/F ratio_changerate', 'GCS_median', 'GCS_variances', 'GCS_changerate',\n",
    "                 'Eyes_median', 'Eyes_variances', 'Eyes_changerate', 'Motor_median', 'Motor_variances',\n",
    "                 'Motor_changerate', 'Verbal_median', 'Verbal_variances', 'Verbal_changerate', 'calcium_median',\n",
    "                 'calcium_variances', 'calcium_changerate', 'ionized calcium_median', 'ionized calcium_variances',\n",
    "                 'ionized calcium_changerate', 'magnesium_median', 'magnesium_variances', 'magnesium_changerate',\n",
    "                 'potassium_median', 'potassium_variances', 'potassium_changerate', 'sodium_median', 'sodium_variances',\n",
    "                 'sodium_changerate', 'CO2_median', 'CO2_variances', 'CO2_changerate', 'ETCO2_median',\n",
    "                 'ETCO2_variances', 'ETCO2_changerate', 'SaO2_median', 'SaO2_variances', 'SaO2_changerate',\n",
    "                 'SpO2_median', 'SpO2_variances', 'SpO2_changerate',\n",
    "                 'Temperature_median', 'Temperature_variances', 'Temperature_changerate', 'Heart Rate_median',\n",
    "                 'Heart Rate_variances', 'Heart Rate_changerate', 'diastolic_PAP_median', 'diastolic_PAP_variances',\n",
    "                 'diastolic_PAP_changerate', 'mean_PAP_median', 'mean_PAP_variances', 'mean_PAP_changerate',\n",
    "                 'systolic_PAP_median', 'systolic_PAP_variances', 'systolic_PAP_changerate', 'I_BP_diastolic_median',\n",
    "                 'I_BP_diastolic_variances', 'I_BP_diastolic_changerate', 'I_BP_mean_median',\n",
    "                 'I_BP_mean_variances', 'I_BP_mean_changerate', 'I_BP_systolic_median',\n",
    "                 'I_BP_systolic_variances', 'I_BP_systolic_changerate',\n",
    "                 'NI_BP_diastolic_median', 'NI_BP_diastolic_variances',\n",
    "                 'NI_BP_diastolic_changerate', 'NI_BP_mean_median',\n",
    "                 'NI_BP_mean_variances', 'NI_BP_mean_changerate', 'NI_BP_systolic_median',\n",
    "                 'NI_BP_systolic_variances', 'NI_BP_systolic_changerate', 'status', 'detail',\n",
    "                 'severity', 'unit', 'hospital']\n",
    "print(len(result_header))"
   ],
   "metadata": {
    "collapsed": false,
    "pycharm": {
     "name": "#%%\n"
    }
   }
  },
  {
   "cell_type": "code",
   "execution_count": null,
   "outputs": [],
   "source": [],
   "metadata": {
    "collapsed": false,
    "pycharm": {
     "name": "#%%\n"
    }
   }
  },
  {
   "cell_type": "code",
   "execution_count": null,
   "outputs": [],
   "source": [],
   "metadata": {
    "collapsed": false,
    "pycharm": {
     "name": "#%%\n"
    }
   }
  },
  {
   "cell_type": "code",
   "execution_count": 2,
   "outputs": [
    {
     "name": "stdout",
     "output_type": "stream",
     "text": [
      "53\n"
     ]
    }
   ],
   "source": [
    "names = ['pH_median',\n",
    "         'paO2_median', 'paCO2_median', 'Base Excess_median',\n",
    "         'bicarbonate_median', 'lactate_median', 'glucose_median',\n",
    "         'WBC x 1000_median', '-basos_median', '-eos_median', '-bands_median',\n",
    "         'Hemoglobin_median', 'hematocrit_median', 'platelets x 1000_median',\n",
    "         'AST (SGOT)_median', 'ALT (SGPT)_median', 'total bilirubin_median',\n",
    "         'albumin_median', 'cvp_median', 'BUN_median', 'creatinine_median',\n",
    "         'PT - INR_median', 'PTT_median', 'FiO2_median', 'PEEP_median',\n",
    "         'Plateau Pressure_median', 'Mean Airway Pressure_median',\n",
    "         'TV/kg IBW_median', 'Respiratory Rate_median', 'P/F ratio_median',\n",
    "         'GCS Total_changerate', 'Eyes_median', 'Motor_median', 'Verbal_median',\n",
    "         'calcium_median', 'ionized calcium_median', 'magnesium_median',\n",
    "         'potassium_median', 'sodium_median', 'Total CO2_median', 'etCO2_median',\n",
    "         'SaO2_median', 'Temperature_median', 'Heart Rate_median',\n",
    "         'padiastolic_median', 'pamean_median', 'pasystolic_median',\n",
    "         'Invasive BP Diastolic_median', 'Invasive BP Mean_median',\n",
    "         'Invasive BP Systolic_median', 'Non-Invasive BP Diastolic_median',\n",
    "         'Non-Invasive BP Mean_median', 'Non-Invasive BP Systolic_median']\n",
    "print(len(names))\n"
   ],
   "metadata": {
    "collapsed": false,
    "pycharm": {
     "name": "#%%\n"
    }
   }
  },
  {
   "cell_type": "code",
   "execution_count": 3,
   "outputs": [
    {
     "name": "stdout",
     "output_type": "stream",
     "text": [
      "55\n",
      "{'FIO2', 'NI_BP_systolic', 'P/F ratio', 'I_BP_diastolic', 'glucose', 'NI_BP_diastolic', 'I_BP_systolic', 'NI_BP_mean', 'PIP', 'I_BP_mean', 'INR', 'CVP', 'bilirubin', 'Hemoglobin', 'systolic_PAP', 'CO2', 'TV', 'mean_PAP', 'diastolic_PAP', 'GCS'}\n"
     ]
    }
   ],
   "source": [
    "temp = ['albumin', 'ALT', 'AST', 'bands', 'Base Excess', 'basos', 'bedside glucose', 'bicarbonate', 'BUN', 'calcium',\n",
    "        'hemoglobin', 'creatinine', 'eos', 'FiO2、Inspired O2 Fraction', 'hematocrit', 'ionized calcium', 'lactate',\n",
    "        'magnesium', 'paCO2', 'paO2', 'PEEP', 'pH', 'platelets', 'potassium', 'PT - INR', 'PTT', 'Respiratory Rate',\n",
    "        'sodium', 'Temperature', 'total bilirubin', 'Total CO2', 'TV/Tidal Volume', 'WBC', 'SpO2', 'ETCO2',\n",
    "        'Mean Airway Pressure', 'Peak Insp. Pressure', 'Plateau Pressure', 'SaO2', 'Heart Rate',\n",
    "        'Non-Invasive BP Diastolic', 'Non-Invasive BP Systolic', 'Non-Invasive BP Mean', 'Invasive BP Diastolic',\n",
    "        'Invasive BP Systolic', 'Invasive BP Mean', 'PA Diastolic', 'PA Systolic', 'PA Mean', 'GCS Total', 'Eyes',\n",
    "        'Motor', 'Verbal', 'CVP/Central Venous Press']\n",
    "dynamic_item_list = ['albumin', 'ALT', 'AST', 'bands', 'Base Excess', 'basos', 'bicarbonate', 'bilirubin', 'BUN',\n",
    "                     'calcium', 'CO2', 'creatinine', 'eos', 'FIO2', 'glucose', 'Hemoglobin', 'INR', 'ionized calcium',\n",
    "                     'lactate', 'magnesium', 'paCO2', 'paO2', 'P/F ratio', 'PEEP', 'pH', 'platelets', 'potassium',\n",
    "                     'PTT', 'PIP', 'sodium', 'Temperature', 'WBC', 'Mean Airway Pressure', 'Plateau Pressure', 'SaO2',\n",
    "                     'SpO2', 'TV', 'CVP', 'ETCO2', 'diastolic_PAP', 'mean_PAP', 'systolic_PAP', 'Eyes', 'GCS', 'Motor',\n",
    "                     'Verbal', 'Heart Rate', 'I_BP_diastolic', 'I_BP_mean', 'I_BP_systolic', 'NI_BP_diastolic',\n",
    "                     'NI_BP_mean', 'NI_BP_systolic', 'Respiratory Rate', 'hematocrit']\n",
    "dynamic_item_list = ['albumin', 'ALT', 'AST', 'bands', 'Base Excess', 'basos', 'bicarbonate', 'bilirubin', 'BUN',\n",
    "                     'calcium', 'CO2', 'creatinine', 'eos', 'FIO2', 'glucose', 'Hemoglobin', 'INR', 'ionized calcium',\n",
    "                     'lactate', 'magnesium', 'paCO2', 'paO2', 'P/F ratio', 'PEEP', 'pH', 'platelets', 'potassium',\n",
    "                     'PTT', 'PIP', 'sodium', 'Temperature', 'WBC', 'Mean Airway Pressure', 'Plateau Pressure', 'SaO2',\n",
    "                     'SpO2', 'TV', 'CVP', 'ETCO2', 'diastolic_PAP', 'mean_PAP', 'systolic_PAP', 'Eyes', 'GCS', 'Motor',\n",
    "                     'Verbal', 'Heart Rate', 'I_BP_diastolic', 'I_BP_mean', 'I_BP_systolic', 'NI_BP_diastolic',\n",
    "                     'NI_BP_mean', 'NI_BP_systolic', 'Respiratory Rate', 'hematocrit']\n",
    "print(len(dynamic_item_list))\n",
    "print(set(dynamic_item_list) - set(temp))\n"
   ],
   "metadata": {
    "collapsed": false,
    "pycharm": {
     "name": "#%%\n"
    }
   }
  },
  {
   "cell_type": "code",
   "execution_count": 4,
   "outputs": [
    {
     "name": "stdout",
     "output_type": "stream",
     "text": [
      "55\n"
     ]
    }
   ],
   "source": [
    "dynamic_item_list = ['albumin', 'ALT', 'AST', 'bands', 'Base Excess', 'basos', 'bicarbonate', 'bilirubin', 'BUN',\n",
    "                     'calcium', 'CO2', 'creatinine', 'eos', 'FIO2', 'glucose', 'Hemoglobin', 'INR', 'ionized calcium',\n",
    "                     'lactate', 'magnesium', 'paCO2', 'paO2', 'P/F ratio', 'PEEP', 'pH', 'platelets', 'potassium',\n",
    "                     'PTT', 'PIP', 'sodium', 'Temperature', 'WBC', 'Mean Airway Pressure', 'Plateau Pressure', 'SaO2',\n",
    "                     'SpO2', 'TV', 'CVP', 'ETCO2', 'diastolic_PAP', 'mean_PAP', 'systolic_PAP', 'Eyes', 'GCS', 'Motor',\n",
    "                     'Verbal', 'Heart Rate', 'I_BP_diastolic', 'I_BP_mean', 'I_BP_systolic', 'NI_BP_diastolic',\n",
    "                     'NI_BP_mean', 'NI_BP_systolic', 'Respiratory Rate', 'hematocrit']\n",
    "print(len(dynamic_item_list))"
   ],
   "metadata": {
    "collapsed": false,
    "pycharm": {
     "name": "#%%\n"
    }
   }
  },
  {
   "cell_type": "code",
   "execution_count": 2,
   "outputs": [
    {
     "name": "stdout",
     "output_type": "stream",
     "text": [
      "26\n",
      "26\n"
     ]
    }
   ],
   "source": [
    "diagnosis_abbrevation_list = ['ACSD', 'AMI', 'ARF', 'Arrhythmia', 'Asthma_Emphysema', 'Cancer', 'Cardiac_Arrest',\n",
    "                              'Cardiogenic_Shock', 'CardM', 'CardO', 'CAS', 'CPUO', 'Coma', 'CABG',\n",
    "                              'Diabetic_Ketoacidosis', 'GI_Bleed', 'GI_Obstruction', 'Neurologic', 'Overdose',\n",
    "                              'Pneumonia', 'RespiMO', 'Sepsis', 'Thoracotomy', 'Trauma', 'Valve_Disease',\n",
    "                              'other_disease']\n",
    "diagnosis_chinese_list = ['急性冠状动脉', '急性心肌梗塞', '急性肾衰竭', '心律不整', '哮喘', '癌症', '心脏骤停', '心因性休克', '心血管病', '其他心血管', '中风', '胸痛',\n",
    "                          '昏迷', '心脏搭桥', '酮症酸中毒', '胃肠道出血', '肠或腹膜粘连伴梗阻', '神经', '药物中毒', '肺炎', '呼吸系统', '脓毒症', '开胸术', '创伤',\n",
    "                          '心脏瓣膜', '其他疾病'\n",
    "                          ]\n",
    "print(len(diagnosis_chinese_list))\n",
    "print(len(diagnosis_abbrevation_list))"
   ],
   "metadata": {
    "collapsed": false,
    "pycharm": {
     "name": "#%%\n"
    }
   }
  },
  {
   "cell_type": "code",
   "execution_count": 4,
   "outputs": [
    {
     "name": "stdout",
     "output_type": "stream",
     "text": [
      "10\n",
      "5\n",
      "26\n",
      "165\n",
      "207\n"
     ]
    }
   ],
   "source": [
    "from filter.param import drug_list, person_info_list, diagnosis_abbrevation_list, dynamic_detail_list\n",
    "\n",
    "print(len(drug_list))\n",
    "print(len(person_info_list))\n",
    "print(len(diagnosis_abbrevation_list))\n",
    "print(len(dynamic_detail_list))\n",
    "\n",
    "result_header = ['id'] + drug_list + diagnosis_abbrevation_list + person_info_list + dynamic_detail_list\n",
    "print(len(result_header))"
   ],
   "metadata": {
    "collapsed": false,
    "pycharm": {
     "name": "#%%\n"
    }
   }
  },
  {
   "cell_type": "code",
   "execution_count": 6,
   "outputs": [
    {
     "name": "stdout",
     "output_type": "stream",
     "text": [
      "55\n",
      "{'albumin': (0, 7), 'ALT': (7, 1000), 'AST': (10, 1000), 'bands': (0, 70), 'Base Excess': (0, 1), 'basos': (0, 1), 'bicarbonate': (5, 40), 'bilirubin': (3.4, 20), 'BUN': (0, 115), 'calcium': (0, 50), 'CO2': (10, 45), 'creatinine': (0, 8), 'eos': (0, 8), 'FIO2': (20, 100), 'glucose': (0, 500), 'Hemoglobin': (0, 16), 'INR': (0, 15), 'ionized calcium': (0, 10), 'lactate': (0, 15), 'magnesium': (0, 10), 'paCO2': (10, 100), 'paO2': (0, 650), 'P/F ratio': (0, 650), 'PEEP': (0, 25), 'pH': (6.5, 7.7), 'platelets': (0, 1000), 'potassium': (0, 12), 'PTT': (20, 160), 'PIP': (-1000, 1000), 'sodium': (95, 215), 'Temperature': (30, 45), 'WBC': (0, 60), 'Mean Airway Pressure': (5, 30), 'Plateau Pressure': (4, 50), 'SaO2': (80, 100), 'SpO2': (80, 100), 'TV': (-1000, 1000), 'CVP': (-5, 100), 'ETCO2': (3.4, 20), 'diastolic_PAP': (1, 40), 'mean_PAP': (1, 60), 'systolic_PAP': (1, 80), 'Eyes': (0, 4), 'GCS': (0, 15), 'Motor': (0, 6), 'Verbal': (0, 5), 'Heart Rate': (30, 175), 'I_BP_diastolic': (30, 150), 'I_BP_mean': (30, 150), 'I_BP_systolic': (30, 250), 'NI_BP_diastolic': (30, 150), 'NI_BP_mean': (30, 150), 'NI_BP_systolic': (30, 250), 'Respiratory Rate': (1, 40), 'hematocrit': (14, 55)}\n"
     ]
    }
   ],
   "source": [
    "# import pandas as pd\n",
    "#\n",
    "# mimic3 = pd.read_csv('D:\\pycharm\\ARDS-prognosis\\ARDS\\mimic\\mimic3\\csvfiles\\cew_1228.csv')\n",
    "# mimic4 = pd.read_csv('D:\\pycharm\\ARDS-prognosis\\ARDS\\mimic\\mimic4\\csvfiles\\cew_1228.csv')\n",
    "# eicu = pd.read_csv('D:\\pycharm\\ARDS-prognosis\\ARDS\\eicu\\csvfiles\\cew_1228.csv')\n",
    "# print(mimic3.columns)\n",
    "# print(mimic4.columns)\n",
    "# print(eicu.columns)\n",
    "\n",
    "\n",
    "dynamic_names = ['albumin', 'ALT', 'AST', 'bands', 'Base Excess', 'basos', 'bicarbonate', 'bilirubin', 'BUN',\n",
    "                 'calcium', 'CO2', 'creatinine', 'eos', 'FIO2', 'glucose', 'Hemoglobin', 'INR', 'ionized calcium',\n",
    "                 'lactate', 'magnesium', 'paCO2', 'paO2', 'P/F ratio', 'PEEP', 'pH', 'platelets', 'potassium',\n",
    "                 'PTT', 'PIP', 'sodium', 'Temperature', 'WBC', 'Mean Airway Pressure', 'Plateau Pressure', 'SaO2',\n",
    "                 'SpO2', 'TV', 'CVP', 'ETCO2', 'diastolic_PAP', 'mean_PAP', 'systolic_PAP', 'Eyes', 'GCS', 'Motor',\n",
    "                 'Verbal', 'Heart Rate', 'I_BP_diastolic', 'I_BP_mean', 'I_BP_systolic', 'NI_BP_diastolic',\n",
    "                 'NI_BP_mean', 'NI_BP_systolic', 'Respiratory Rate', 'hematocrit']\n",
    "dynamic_min = [0, 7, 10, 0, 0, 0, 5, 3.4, 0, 0, 10, 0, 0, 20, 0, 0, 0, 0, 0, 0, 10, 0, 0, 0, 6.5, 0, 0, 20, -1000,\n",
    "               95, 30, 0, 5, 4, 80, 80, -1000, -5, 3.4, 1, 1, 1, 0, 0, 0, 0, 30, 30, 30, 30, 30, 30, 30, 1, 14]\n",
    "dynamic_max = [7, 1000, 1000, 70, 1, 1, 40, 20, 115, 50, 45, 8, 8, 100, 500, 16, 15, 10, 15, 10, 100, 650, 650,\n",
    "               25, 7.7, 1000, 12, 160, 1000, 215, 45, 60, 30, 50, 100, 100, 1000, 100, 20, 40, 60, 80, 4, 15, 6, 5,\n",
    "               175, 150, 150, 250, 150, 150, 250, 40, 55]\n",
    "print(len(dynamic_names))\n",
    "final_dict = {}\n",
    "for name, min_, max_ in zip(dynamic_names, dynamic_min, dynamic_max):\n",
    "    final_dict[name]=(min_,max_)\n",
    "print(final_dict)\n",
    "\n",
    "# 白蛋白\n",
    "# 谷丙转氨酶\n",
    "# 谷草转氨酶\n",
    "# 中性粒细胞\n",
    "# 碱中毒\n",
    "# 嗜碱性粒细胞\n",
    "# 葡萄糖\n",
    "# 碳酸氢盐\n",
    "# 尿素氮\n",
    "# 钙\n",
    "# 血红蛋白\n",
    "# 肌酐\n",
    "# 嗜酸性粒细胞\n",
    "# 吸入氧气浓度\n",
    "# 葡萄糖\n",
    "# 碳酸氢盐\n",
    "# 血细胞压积\n",
    "# 离子钙\n",
    "# 乳酸\n",
    "# 镁\n",
    "# 二氧化碳\n",
    "# 动脉血氧分压\n",
    "# 呼吸末正压\n",
    "# 酸碱度\n",
    "# 血小板\n",
    "# 钾\n",
    "# 凝血酶原时间\n",
    "# 凝血激活酶时间\n",
    "# 呼吸频率\n",
    "# 钠\n",
    "# 温度\n",
    "# 总胆红素\n",
    "# 总二氧化碳\n",
    "# 潮气量\n",
    "# 白细胞\n",
    "# 经皮血氧饱和度\n",
    "# 呼吸末二氧化碳\n",
    "# 平均气道压力\n",
    "# 经皮二氧化碳\n",
    "# 峰值压力\n",
    "# 呼吸末分压\n",
    "# 平台压力\n",
    "# 二氧化硫\n",
    "# 潮气量\n",
    "\n",
    "\n",
    "\n",
    "\n",
    "\n",
    "\n",
    "\n",
    "\n",
    "\n",
    "\n",
    "\n",
    "\n",
    "\n",
    "\n",
    "\n",
    "\n",
    "\n",
    "\n",
    "\n",
    "\n",
    "\n",
    "\n",
    "\n",
    "\n",
    "\n",
    "\n",
    "\n",
    "\n",
    "\n",
    "\n",
    "\n",
    "\n",
    "\n",
    "\n",
    "\n",
    "\n",
    "\n",
    "\n",
    "\n",
    "\n",
    "\n",
    "\n"
   ],
   "metadata": {
    "collapsed": false,
    "pycharm": {
     "name": "#%%\n"
    }
   }
  }
 ],
 "metadata": {
  "kernelspec": {
   "display_name": "Python 3",
   "language": "python",
   "name": "python3"
  },
  "language_info": {
   "codemirror_mode": {
    "name": "ipython",
    "version": 2
   },
   "file_extension": ".py",
   "mimetype": "text/x-python",
   "name": "python",
   "nbconvert_exporter": "python",
   "pygments_lexer": "ipython2",
   "version": "2.7.6"
  }
 },
 "nbformat": 4,
 "nbformat_minor": 0
}